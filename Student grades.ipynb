{
 "cells": [
  {
   "cell_type": "code",
   "execution_count": 167,
   "id": "bca20e43",
   "metadata": {},
   "outputs": [],
   "source": [
    "import numpy as np                                 # Importing necessary libraries\n",
    "import pandas as pd\n",
    "import matplotlib.pyplot as plt\n",
    "import seaborn as sns\n",
    "import warnings\n",
    "warnings.filterwarnings('ignore')"
   ]
  },
  {
   "cell_type": "code",
   "execution_count": 168,
   "id": "20ddbb45",
   "metadata": {},
   "outputs": [
    {
     "data": {
      "text/html": [
       "<div>\n",
       "<style scoped>\n",
       "    .dataframe tbody tr th:only-of-type {\n",
       "        vertical-align: middle;\n",
       "    }\n",
       "\n",
       "    .dataframe tbody tr th {\n",
       "        vertical-align: top;\n",
       "    }\n",
       "\n",
       "    .dataframe thead th {\n",
       "        text-align: right;\n",
       "    }\n",
       "</style>\n",
       "<table border=\"1\" class=\"dataframe\">\n",
       "  <thead>\n",
       "    <tr style=\"text-align: right;\">\n",
       "      <th></th>\n",
       "      <th>Seat No.</th>\n",
       "      <th>PH-121</th>\n",
       "      <th>HS-101</th>\n",
       "      <th>CY-105</th>\n",
       "      <th>HS-105/12</th>\n",
       "      <th>MT-111</th>\n",
       "      <th>CS-105</th>\n",
       "      <th>CS-106</th>\n",
       "      <th>EL-102</th>\n",
       "      <th>EE-119</th>\n",
       "      <th>...</th>\n",
       "      <th>CS-312</th>\n",
       "      <th>CS-317</th>\n",
       "      <th>CS-403</th>\n",
       "      <th>CS-421</th>\n",
       "      <th>CS-406</th>\n",
       "      <th>CS-414</th>\n",
       "      <th>CS-419</th>\n",
       "      <th>CS-423</th>\n",
       "      <th>CS-412</th>\n",
       "      <th>CGPA</th>\n",
       "    </tr>\n",
       "  </thead>\n",
       "  <tbody>\n",
       "    <tr>\n",
       "      <th>0</th>\n",
       "      <td>CS-97001</td>\n",
       "      <td>B-</td>\n",
       "      <td>D+</td>\n",
       "      <td>C-</td>\n",
       "      <td>C</td>\n",
       "      <td>C-</td>\n",
       "      <td>D+</td>\n",
       "      <td>D</td>\n",
       "      <td>C-</td>\n",
       "      <td>B-</td>\n",
       "      <td>...</td>\n",
       "      <td>C-</td>\n",
       "      <td>C-</td>\n",
       "      <td>C-</td>\n",
       "      <td>C-</td>\n",
       "      <td>A-</td>\n",
       "      <td>A</td>\n",
       "      <td>C-</td>\n",
       "      <td>B</td>\n",
       "      <td>A-</td>\n",
       "      <td>2.205</td>\n",
       "    </tr>\n",
       "    <tr>\n",
       "      <th>1</th>\n",
       "      <td>CS-97002</td>\n",
       "      <td>A</td>\n",
       "      <td>D</td>\n",
       "      <td>D+</td>\n",
       "      <td>D</td>\n",
       "      <td>B-</td>\n",
       "      <td>C</td>\n",
       "      <td>D</td>\n",
       "      <td>A</td>\n",
       "      <td>D+</td>\n",
       "      <td>...</td>\n",
       "      <td>D+</td>\n",
       "      <td>D</td>\n",
       "      <td>C</td>\n",
       "      <td>D</td>\n",
       "      <td>A-</td>\n",
       "      <td>B-</td>\n",
       "      <td>C</td>\n",
       "      <td>C</td>\n",
       "      <td>B</td>\n",
       "      <td>2.008</td>\n",
       "    </tr>\n",
       "    <tr>\n",
       "      <th>2</th>\n",
       "      <td>CS-97003</td>\n",
       "      <td>A</td>\n",
       "      <td>B</td>\n",
       "      <td>A</td>\n",
       "      <td>B-</td>\n",
       "      <td>B+</td>\n",
       "      <td>A</td>\n",
       "      <td>B-</td>\n",
       "      <td>B+</td>\n",
       "      <td>A-</td>\n",
       "      <td>...</td>\n",
       "      <td>B</td>\n",
       "      <td>B</td>\n",
       "      <td>A</td>\n",
       "      <td>C</td>\n",
       "      <td>A</td>\n",
       "      <td>A</td>\n",
       "      <td>A</td>\n",
       "      <td>A-</td>\n",
       "      <td>A</td>\n",
       "      <td>3.608</td>\n",
       "    </tr>\n",
       "    <tr>\n",
       "      <th>3</th>\n",
       "      <td>CS-97004</td>\n",
       "      <td>D</td>\n",
       "      <td>C+</td>\n",
       "      <td>D+</td>\n",
       "      <td>D</td>\n",
       "      <td>D</td>\n",
       "      <td>A-</td>\n",
       "      <td>D+</td>\n",
       "      <td>C-</td>\n",
       "      <td>D</td>\n",
       "      <td>...</td>\n",
       "      <td>D+</td>\n",
       "      <td>C</td>\n",
       "      <td>D+</td>\n",
       "      <td>C-</td>\n",
       "      <td>B-</td>\n",
       "      <td>B</td>\n",
       "      <td>C+</td>\n",
       "      <td>C+</td>\n",
       "      <td>C+</td>\n",
       "      <td>1.906</td>\n",
       "    </tr>\n",
       "    <tr>\n",
       "      <th>4</th>\n",
       "      <td>CS-97005</td>\n",
       "      <td>A-</td>\n",
       "      <td>A-</td>\n",
       "      <td>A-</td>\n",
       "      <td>B+</td>\n",
       "      <td>A</td>\n",
       "      <td>A</td>\n",
       "      <td>A-</td>\n",
       "      <td>B+</td>\n",
       "      <td>A</td>\n",
       "      <td>...</td>\n",
       "      <td>B-</td>\n",
       "      <td>B+</td>\n",
       "      <td>B+</td>\n",
       "      <td>B-</td>\n",
       "      <td>A-</td>\n",
       "      <td>A</td>\n",
       "      <td>A-</td>\n",
       "      <td>A-</td>\n",
       "      <td>A</td>\n",
       "      <td>3.448</td>\n",
       "    </tr>\n",
       "    <tr>\n",
       "      <th>...</th>\n",
       "      <td>...</td>\n",
       "      <td>...</td>\n",
       "      <td>...</td>\n",
       "      <td>...</td>\n",
       "      <td>...</td>\n",
       "      <td>...</td>\n",
       "      <td>...</td>\n",
       "      <td>...</td>\n",
       "      <td>...</td>\n",
       "      <td>...</td>\n",
       "      <td>...</td>\n",
       "      <td>...</td>\n",
       "      <td>...</td>\n",
       "      <td>...</td>\n",
       "      <td>...</td>\n",
       "      <td>...</td>\n",
       "      <td>...</td>\n",
       "      <td>...</td>\n",
       "      <td>...</td>\n",
       "      <td>...</td>\n",
       "      <td>...</td>\n",
       "    </tr>\n",
       "    <tr>\n",
       "      <th>566</th>\n",
       "      <td>CS-97567</td>\n",
       "      <td>B</td>\n",
       "      <td>A</td>\n",
       "      <td>A</td>\n",
       "      <td>A-</td>\n",
       "      <td>A+</td>\n",
       "      <td>A</td>\n",
       "      <td>A-</td>\n",
       "      <td>A-</td>\n",
       "      <td>A+</td>\n",
       "      <td>...</td>\n",
       "      <td>A-</td>\n",
       "      <td>A-</td>\n",
       "      <td>A</td>\n",
       "      <td>A</td>\n",
       "      <td>A</td>\n",
       "      <td>B+</td>\n",
       "      <td>B+</td>\n",
       "      <td>B</td>\n",
       "      <td>A</td>\n",
       "      <td>3.798</td>\n",
       "    </tr>\n",
       "    <tr>\n",
       "      <th>567</th>\n",
       "      <td>CS-97568</td>\n",
       "      <td>A+</td>\n",
       "      <td>A</td>\n",
       "      <td>A</td>\n",
       "      <td>A</td>\n",
       "      <td>A</td>\n",
       "      <td>A</td>\n",
       "      <td>A</td>\n",
       "      <td>A-</td>\n",
       "      <td>A</td>\n",
       "      <td>...</td>\n",
       "      <td>B+</td>\n",
       "      <td>B+</td>\n",
       "      <td>A</td>\n",
       "      <td>A</td>\n",
       "      <td>A-</td>\n",
       "      <td>B</td>\n",
       "      <td>A-</td>\n",
       "      <td>C</td>\n",
       "      <td>A-</td>\n",
       "      <td>3.772</td>\n",
       "    </tr>\n",
       "    <tr>\n",
       "      <th>568</th>\n",
       "      <td>CS-97569</td>\n",
       "      <td>B</td>\n",
       "      <td>A</td>\n",
       "      <td>A-</td>\n",
       "      <td>B+</td>\n",
       "      <td>A</td>\n",
       "      <td>A</td>\n",
       "      <td>A</td>\n",
       "      <td>A</td>\n",
       "      <td>A</td>\n",
       "      <td>...</td>\n",
       "      <td>A-</td>\n",
       "      <td>B</td>\n",
       "      <td>A</td>\n",
       "      <td>B+</td>\n",
       "      <td>A</td>\n",
       "      <td>C</td>\n",
       "      <td>B+</td>\n",
       "      <td>A-</td>\n",
       "      <td>A-</td>\n",
       "      <td>3.470</td>\n",
       "    </tr>\n",
       "    <tr>\n",
       "      <th>569</th>\n",
       "      <td>CS-97570</td>\n",
       "      <td>A</td>\n",
       "      <td>B+</td>\n",
       "      <td>D</td>\n",
       "      <td>A</td>\n",
       "      <td>D</td>\n",
       "      <td>D+</td>\n",
       "      <td>B-</td>\n",
       "      <td>C-</td>\n",
       "      <td>B-</td>\n",
       "      <td>...</td>\n",
       "      <td>D</td>\n",
       "      <td>B</td>\n",
       "      <td>B</td>\n",
       "      <td>C-</td>\n",
       "      <td>D</td>\n",
       "      <td>C</td>\n",
       "      <td>B</td>\n",
       "      <td>B-</td>\n",
       "      <td>C</td>\n",
       "      <td>2.193</td>\n",
       "    </tr>\n",
       "    <tr>\n",
       "      <th>570</th>\n",
       "      <td>CS-97571</td>\n",
       "      <td>C</td>\n",
       "      <td>D</td>\n",
       "      <td>D</td>\n",
       "      <td>C</td>\n",
       "      <td>C</td>\n",
       "      <td>D+</td>\n",
       "      <td>B</td>\n",
       "      <td>C+</td>\n",
       "      <td>C</td>\n",
       "      <td>...</td>\n",
       "      <td>C+</td>\n",
       "      <td>C</td>\n",
       "      <td>B-</td>\n",
       "      <td>D</td>\n",
       "      <td>F</td>\n",
       "      <td>C-</td>\n",
       "      <td>B+</td>\n",
       "      <td>D</td>\n",
       "      <td>C-</td>\n",
       "      <td>1.753</td>\n",
       "    </tr>\n",
       "  </tbody>\n",
       "</table>\n",
       "<p>571 rows × 43 columns</p>\n",
       "</div>"
      ],
      "text/plain": [
       "     Seat No. PH-121 HS-101 CY-105 HS-105/12 MT-111 CS-105 CS-106 EL-102  \\\n",
       "0    CS-97001     B-     D+     C-         C     C-     D+      D     C-   \n",
       "1    CS-97002      A      D     D+         D     B-      C      D      A   \n",
       "2    CS-97003      A      B      A        B-     B+      A     B-     B+   \n",
       "3    CS-97004      D     C+     D+         D      D     A-     D+     C-   \n",
       "4    CS-97005     A-     A-     A-        B+      A      A     A-     B+   \n",
       "..        ...    ...    ...    ...       ...    ...    ...    ...    ...   \n",
       "566  CS-97567      B      A      A        A-     A+      A     A-     A-   \n",
       "567  CS-97568     A+      A      A         A      A      A      A     A-   \n",
       "568  CS-97569      B      A     A-        B+      A      A      A      A   \n",
       "569  CS-97570      A     B+      D         A      D     D+     B-     C-   \n",
       "570  CS-97571      C      D      D         C      C     D+      B     C+   \n",
       "\n",
       "    EE-119  ... CS-312 CS-317 CS-403 CS-421 CS-406 CS-414 CS-419 CS-423  \\\n",
       "0       B-  ...     C-     C-     C-     C-     A-      A     C-      B   \n",
       "1       D+  ...     D+      D      C      D     A-     B-      C      C   \n",
       "2       A-  ...      B      B      A      C      A      A      A     A-   \n",
       "3        D  ...     D+      C     D+     C-     B-      B     C+     C+   \n",
       "4        A  ...     B-     B+     B+     B-     A-      A     A-     A-   \n",
       "..     ...  ...    ...    ...    ...    ...    ...    ...    ...    ...   \n",
       "566     A+  ...     A-     A-      A      A      A     B+     B+      B   \n",
       "567      A  ...     B+     B+      A      A     A-      B     A-      C   \n",
       "568      A  ...     A-      B      A     B+      A      C     B+     A-   \n",
       "569     B-  ...      D      B      B     C-      D      C      B     B-   \n",
       "570      C  ...     C+      C     B-      D      F     C-     B+      D   \n",
       "\n",
       "    CS-412   CGPA  \n",
       "0       A-  2.205  \n",
       "1        B  2.008  \n",
       "2        A  3.608  \n",
       "3       C+  1.906  \n",
       "4        A  3.448  \n",
       "..     ...    ...  \n",
       "566      A  3.798  \n",
       "567     A-  3.772  \n",
       "568     A-  3.470  \n",
       "569      C  2.193  \n",
       "570     C-  1.753  \n",
       "\n",
       "[571 rows x 43 columns]"
      ]
     },
     "execution_count": 168,
     "metadata": {},
     "output_type": "execute_result"
    }
   ],
   "source": [
    "df=pd.read_csv(\"https://raw.githubusercontent.com/dsrscientist/dataset4/main/Grades.csv\")\n",
    "df"
   ]
  },
  {
   "cell_type": "code",
   "execution_count": 169,
   "id": "612f1209",
   "metadata": {},
   "outputs": [
    {
     "data": {
      "text/html": [
       "<div>\n",
       "<style scoped>\n",
       "    .dataframe tbody tr th:only-of-type {\n",
       "        vertical-align: middle;\n",
       "    }\n",
       "\n",
       "    .dataframe tbody tr th {\n",
       "        vertical-align: top;\n",
       "    }\n",
       "\n",
       "    .dataframe thead th {\n",
       "        text-align: right;\n",
       "    }\n",
       "</style>\n",
       "<table border=\"1\" class=\"dataframe\">\n",
       "  <thead>\n",
       "    <tr style=\"text-align: right;\">\n",
       "      <th></th>\n",
       "      <th>Seat No.</th>\n",
       "      <th>PH-121</th>\n",
       "      <th>HS-101</th>\n",
       "      <th>CY-105</th>\n",
       "      <th>HS-105/12</th>\n",
       "      <th>MT-111</th>\n",
       "      <th>CS-105</th>\n",
       "      <th>CS-106</th>\n",
       "      <th>EL-102</th>\n",
       "      <th>EE-119</th>\n",
       "      <th>...</th>\n",
       "      <th>CS-312</th>\n",
       "      <th>CS-317</th>\n",
       "      <th>CS-403</th>\n",
       "      <th>CS-421</th>\n",
       "      <th>CS-406</th>\n",
       "      <th>CS-414</th>\n",
       "      <th>CS-419</th>\n",
       "      <th>CS-423</th>\n",
       "      <th>CS-412</th>\n",
       "      <th>CGPA</th>\n",
       "    </tr>\n",
       "  </thead>\n",
       "  <tbody>\n",
       "    <tr>\n",
       "      <th>0</th>\n",
       "      <td>CS-97001</td>\n",
       "      <td>B-</td>\n",
       "      <td>D+</td>\n",
       "      <td>C-</td>\n",
       "      <td>C</td>\n",
       "      <td>C-</td>\n",
       "      <td>D+</td>\n",
       "      <td>D</td>\n",
       "      <td>C-</td>\n",
       "      <td>B-</td>\n",
       "      <td>...</td>\n",
       "      <td>C-</td>\n",
       "      <td>C-</td>\n",
       "      <td>C-</td>\n",
       "      <td>C-</td>\n",
       "      <td>A-</td>\n",
       "      <td>A</td>\n",
       "      <td>C-</td>\n",
       "      <td>B</td>\n",
       "      <td>A-</td>\n",
       "      <td>2.205</td>\n",
       "    </tr>\n",
       "    <tr>\n",
       "      <th>1</th>\n",
       "      <td>CS-97002</td>\n",
       "      <td>A</td>\n",
       "      <td>D</td>\n",
       "      <td>D+</td>\n",
       "      <td>D</td>\n",
       "      <td>B-</td>\n",
       "      <td>C</td>\n",
       "      <td>D</td>\n",
       "      <td>A</td>\n",
       "      <td>D+</td>\n",
       "      <td>...</td>\n",
       "      <td>D+</td>\n",
       "      <td>D</td>\n",
       "      <td>C</td>\n",
       "      <td>D</td>\n",
       "      <td>A-</td>\n",
       "      <td>B-</td>\n",
       "      <td>C</td>\n",
       "      <td>C</td>\n",
       "      <td>B</td>\n",
       "      <td>2.008</td>\n",
       "    </tr>\n",
       "    <tr>\n",
       "      <th>2</th>\n",
       "      <td>CS-97003</td>\n",
       "      <td>A</td>\n",
       "      <td>B</td>\n",
       "      <td>A</td>\n",
       "      <td>B-</td>\n",
       "      <td>B+</td>\n",
       "      <td>A</td>\n",
       "      <td>B-</td>\n",
       "      <td>B+</td>\n",
       "      <td>A-</td>\n",
       "      <td>...</td>\n",
       "      <td>B</td>\n",
       "      <td>B</td>\n",
       "      <td>A</td>\n",
       "      <td>C</td>\n",
       "      <td>A</td>\n",
       "      <td>A</td>\n",
       "      <td>A</td>\n",
       "      <td>A-</td>\n",
       "      <td>A</td>\n",
       "      <td>3.608</td>\n",
       "    </tr>\n",
       "    <tr>\n",
       "      <th>3</th>\n",
       "      <td>CS-97004</td>\n",
       "      <td>D</td>\n",
       "      <td>C+</td>\n",
       "      <td>D+</td>\n",
       "      <td>D</td>\n",
       "      <td>D</td>\n",
       "      <td>A-</td>\n",
       "      <td>D+</td>\n",
       "      <td>C-</td>\n",
       "      <td>D</td>\n",
       "      <td>...</td>\n",
       "      <td>D+</td>\n",
       "      <td>C</td>\n",
       "      <td>D+</td>\n",
       "      <td>C-</td>\n",
       "      <td>B-</td>\n",
       "      <td>B</td>\n",
       "      <td>C+</td>\n",
       "      <td>C+</td>\n",
       "      <td>C+</td>\n",
       "      <td>1.906</td>\n",
       "    </tr>\n",
       "    <tr>\n",
       "      <th>4</th>\n",
       "      <td>CS-97005</td>\n",
       "      <td>A-</td>\n",
       "      <td>A-</td>\n",
       "      <td>A-</td>\n",
       "      <td>B+</td>\n",
       "      <td>A</td>\n",
       "      <td>A</td>\n",
       "      <td>A-</td>\n",
       "      <td>B+</td>\n",
       "      <td>A</td>\n",
       "      <td>...</td>\n",
       "      <td>B-</td>\n",
       "      <td>B+</td>\n",
       "      <td>B+</td>\n",
       "      <td>B-</td>\n",
       "      <td>A-</td>\n",
       "      <td>A</td>\n",
       "      <td>A-</td>\n",
       "      <td>A-</td>\n",
       "      <td>A</td>\n",
       "      <td>3.448</td>\n",
       "    </tr>\n",
       "  </tbody>\n",
       "</table>\n",
       "<p>5 rows × 43 columns</p>\n",
       "</div>"
      ],
      "text/plain": [
       "   Seat No. PH-121 HS-101 CY-105 HS-105/12 MT-111 CS-105 CS-106 EL-102 EE-119  \\\n",
       "0  CS-97001     B-     D+     C-         C     C-     D+      D     C-     B-   \n",
       "1  CS-97002      A      D     D+         D     B-      C      D      A     D+   \n",
       "2  CS-97003      A      B      A        B-     B+      A     B-     B+     A-   \n",
       "3  CS-97004      D     C+     D+         D      D     A-     D+     C-      D   \n",
       "4  CS-97005     A-     A-     A-        B+      A      A     A-     B+      A   \n",
       "\n",
       "   ... CS-312 CS-317 CS-403 CS-421 CS-406 CS-414 CS-419 CS-423 CS-412   CGPA  \n",
       "0  ...     C-     C-     C-     C-     A-      A     C-      B     A-  2.205  \n",
       "1  ...     D+      D      C      D     A-     B-      C      C      B  2.008  \n",
       "2  ...      B      B      A      C      A      A      A     A-      A  3.608  \n",
       "3  ...     D+      C     D+     C-     B-      B     C+     C+     C+  1.906  \n",
       "4  ...     B-     B+     B+     B-     A-      A     A-     A-      A  3.448  \n",
       "\n",
       "[5 rows x 43 columns]"
      ]
     },
     "execution_count": 169,
     "metadata": {},
     "output_type": "execute_result"
    }
   ],
   "source": [
    "df.head()"
   ]
  },
  {
   "cell_type": "code",
   "execution_count": 170,
   "id": "37dd35a6",
   "metadata": {},
   "outputs": [
    {
     "data": {
      "text/html": [
       "<div>\n",
       "<style scoped>\n",
       "    .dataframe tbody tr th:only-of-type {\n",
       "        vertical-align: middle;\n",
       "    }\n",
       "\n",
       "    .dataframe tbody tr th {\n",
       "        vertical-align: top;\n",
       "    }\n",
       "\n",
       "    .dataframe thead th {\n",
       "        text-align: right;\n",
       "    }\n",
       "</style>\n",
       "<table border=\"1\" class=\"dataframe\">\n",
       "  <thead>\n",
       "    <tr style=\"text-align: right;\">\n",
       "      <th></th>\n",
       "      <th>Seat No.</th>\n",
       "      <th>PH-121</th>\n",
       "      <th>HS-101</th>\n",
       "      <th>CY-105</th>\n",
       "      <th>HS-105/12</th>\n",
       "      <th>MT-111</th>\n",
       "      <th>CS-105</th>\n",
       "      <th>CS-106</th>\n",
       "      <th>EL-102</th>\n",
       "      <th>EE-119</th>\n",
       "      <th>...</th>\n",
       "      <th>CS-312</th>\n",
       "      <th>CS-317</th>\n",
       "      <th>CS-403</th>\n",
       "      <th>CS-421</th>\n",
       "      <th>CS-406</th>\n",
       "      <th>CS-414</th>\n",
       "      <th>CS-419</th>\n",
       "      <th>CS-423</th>\n",
       "      <th>CS-412</th>\n",
       "      <th>CGPA</th>\n",
       "    </tr>\n",
       "  </thead>\n",
       "  <tbody>\n",
       "    <tr>\n",
       "      <th>566</th>\n",
       "      <td>CS-97567</td>\n",
       "      <td>B</td>\n",
       "      <td>A</td>\n",
       "      <td>A</td>\n",
       "      <td>A-</td>\n",
       "      <td>A+</td>\n",
       "      <td>A</td>\n",
       "      <td>A-</td>\n",
       "      <td>A-</td>\n",
       "      <td>A+</td>\n",
       "      <td>...</td>\n",
       "      <td>A-</td>\n",
       "      <td>A-</td>\n",
       "      <td>A</td>\n",
       "      <td>A</td>\n",
       "      <td>A</td>\n",
       "      <td>B+</td>\n",
       "      <td>B+</td>\n",
       "      <td>B</td>\n",
       "      <td>A</td>\n",
       "      <td>3.798</td>\n",
       "    </tr>\n",
       "    <tr>\n",
       "      <th>567</th>\n",
       "      <td>CS-97568</td>\n",
       "      <td>A+</td>\n",
       "      <td>A</td>\n",
       "      <td>A</td>\n",
       "      <td>A</td>\n",
       "      <td>A</td>\n",
       "      <td>A</td>\n",
       "      <td>A</td>\n",
       "      <td>A-</td>\n",
       "      <td>A</td>\n",
       "      <td>...</td>\n",
       "      <td>B+</td>\n",
       "      <td>B+</td>\n",
       "      <td>A</td>\n",
       "      <td>A</td>\n",
       "      <td>A-</td>\n",
       "      <td>B</td>\n",
       "      <td>A-</td>\n",
       "      <td>C</td>\n",
       "      <td>A-</td>\n",
       "      <td>3.772</td>\n",
       "    </tr>\n",
       "    <tr>\n",
       "      <th>568</th>\n",
       "      <td>CS-97569</td>\n",
       "      <td>B</td>\n",
       "      <td>A</td>\n",
       "      <td>A-</td>\n",
       "      <td>B+</td>\n",
       "      <td>A</td>\n",
       "      <td>A</td>\n",
       "      <td>A</td>\n",
       "      <td>A</td>\n",
       "      <td>A</td>\n",
       "      <td>...</td>\n",
       "      <td>A-</td>\n",
       "      <td>B</td>\n",
       "      <td>A</td>\n",
       "      <td>B+</td>\n",
       "      <td>A</td>\n",
       "      <td>C</td>\n",
       "      <td>B+</td>\n",
       "      <td>A-</td>\n",
       "      <td>A-</td>\n",
       "      <td>3.470</td>\n",
       "    </tr>\n",
       "    <tr>\n",
       "      <th>569</th>\n",
       "      <td>CS-97570</td>\n",
       "      <td>A</td>\n",
       "      <td>B+</td>\n",
       "      <td>D</td>\n",
       "      <td>A</td>\n",
       "      <td>D</td>\n",
       "      <td>D+</td>\n",
       "      <td>B-</td>\n",
       "      <td>C-</td>\n",
       "      <td>B-</td>\n",
       "      <td>...</td>\n",
       "      <td>D</td>\n",
       "      <td>B</td>\n",
       "      <td>B</td>\n",
       "      <td>C-</td>\n",
       "      <td>D</td>\n",
       "      <td>C</td>\n",
       "      <td>B</td>\n",
       "      <td>B-</td>\n",
       "      <td>C</td>\n",
       "      <td>2.193</td>\n",
       "    </tr>\n",
       "    <tr>\n",
       "      <th>570</th>\n",
       "      <td>CS-97571</td>\n",
       "      <td>C</td>\n",
       "      <td>D</td>\n",
       "      <td>D</td>\n",
       "      <td>C</td>\n",
       "      <td>C</td>\n",
       "      <td>D+</td>\n",
       "      <td>B</td>\n",
       "      <td>C+</td>\n",
       "      <td>C</td>\n",
       "      <td>...</td>\n",
       "      <td>C+</td>\n",
       "      <td>C</td>\n",
       "      <td>B-</td>\n",
       "      <td>D</td>\n",
       "      <td>F</td>\n",
       "      <td>C-</td>\n",
       "      <td>B+</td>\n",
       "      <td>D</td>\n",
       "      <td>C-</td>\n",
       "      <td>1.753</td>\n",
       "    </tr>\n",
       "  </tbody>\n",
       "</table>\n",
       "<p>5 rows × 43 columns</p>\n",
       "</div>"
      ],
      "text/plain": [
       "     Seat No. PH-121 HS-101 CY-105 HS-105/12 MT-111 CS-105 CS-106 EL-102  \\\n",
       "566  CS-97567      B      A      A        A-     A+      A     A-     A-   \n",
       "567  CS-97568     A+      A      A         A      A      A      A     A-   \n",
       "568  CS-97569      B      A     A-        B+      A      A      A      A   \n",
       "569  CS-97570      A     B+      D         A      D     D+     B-     C-   \n",
       "570  CS-97571      C      D      D         C      C     D+      B     C+   \n",
       "\n",
       "    EE-119  ... CS-312 CS-317 CS-403 CS-421 CS-406 CS-414 CS-419 CS-423  \\\n",
       "566     A+  ...     A-     A-      A      A      A     B+     B+      B   \n",
       "567      A  ...     B+     B+      A      A     A-      B     A-      C   \n",
       "568      A  ...     A-      B      A     B+      A      C     B+     A-   \n",
       "569     B-  ...      D      B      B     C-      D      C      B     B-   \n",
       "570      C  ...     C+      C     B-      D      F     C-     B+      D   \n",
       "\n",
       "    CS-412   CGPA  \n",
       "566      A  3.798  \n",
       "567     A-  3.772  \n",
       "568     A-  3.470  \n",
       "569      C  2.193  \n",
       "570     C-  1.753  \n",
       "\n",
       "[5 rows x 43 columns]"
      ]
     },
     "execution_count": 170,
     "metadata": {},
     "output_type": "execute_result"
    }
   ],
   "source": [
    "df.tail()"
   ]
  },
  {
   "cell_type": "code",
   "execution_count": 171,
   "id": "82141965",
   "metadata": {},
   "outputs": [
    {
     "data": {
      "text/html": [
       "<div>\n",
       "<style scoped>\n",
       "    .dataframe tbody tr th:only-of-type {\n",
       "        vertical-align: middle;\n",
       "    }\n",
       "\n",
       "    .dataframe tbody tr th {\n",
       "        vertical-align: top;\n",
       "    }\n",
       "\n",
       "    .dataframe thead th {\n",
       "        text-align: right;\n",
       "    }\n",
       "</style>\n",
       "<table border=\"1\" class=\"dataframe\">\n",
       "  <thead>\n",
       "    <tr style=\"text-align: right;\">\n",
       "      <th></th>\n",
       "      <th>Seat No.</th>\n",
       "      <th>PH-121</th>\n",
       "      <th>HS-101</th>\n",
       "      <th>CY-105</th>\n",
       "      <th>HS-105/12</th>\n",
       "      <th>MT-111</th>\n",
       "      <th>CS-105</th>\n",
       "      <th>CS-106</th>\n",
       "      <th>EL-102</th>\n",
       "      <th>EE-119</th>\n",
       "      <th>...</th>\n",
       "      <th>CS-312</th>\n",
       "      <th>CS-317</th>\n",
       "      <th>CS-403</th>\n",
       "      <th>CS-421</th>\n",
       "      <th>CS-406</th>\n",
       "      <th>CS-414</th>\n",
       "      <th>CS-419</th>\n",
       "      <th>CS-423</th>\n",
       "      <th>CS-412</th>\n",
       "      <th>CGPA</th>\n",
       "    </tr>\n",
       "  </thead>\n",
       "  <tbody>\n",
       "    <tr>\n",
       "      <th>234</th>\n",
       "      <td>CS-97235</td>\n",
       "      <td>A+</td>\n",
       "      <td>A</td>\n",
       "      <td>A</td>\n",
       "      <td>A+</td>\n",
       "      <td>A</td>\n",
       "      <td>A+</td>\n",
       "      <td>A-</td>\n",
       "      <td>A-</td>\n",
       "      <td>A-</td>\n",
       "      <td>...</td>\n",
       "      <td>A-</td>\n",
       "      <td>A</td>\n",
       "      <td>A</td>\n",
       "      <td>B+</td>\n",
       "      <td>B+</td>\n",
       "      <td>A</td>\n",
       "      <td>A</td>\n",
       "      <td>A+</td>\n",
       "      <td>A</td>\n",
       "      <td>3.754</td>\n",
       "    </tr>\n",
       "  </tbody>\n",
       "</table>\n",
       "<p>1 rows × 43 columns</p>\n",
       "</div>"
      ],
      "text/plain": [
       "     Seat No. PH-121 HS-101 CY-105 HS-105/12 MT-111 CS-105 CS-106 EL-102  \\\n",
       "234  CS-97235     A+      A      A        A+      A     A+     A-     A-   \n",
       "\n",
       "    EE-119  ... CS-312 CS-317 CS-403 CS-421 CS-406 CS-414 CS-419 CS-423  \\\n",
       "234     A-  ...     A-      A      A     B+     B+      A      A     A+   \n",
       "\n",
       "    CS-412   CGPA  \n",
       "234      A  3.754  \n",
       "\n",
       "[1 rows x 43 columns]"
      ]
     },
     "execution_count": 171,
     "metadata": {},
     "output_type": "execute_result"
    }
   ],
   "source": [
    "df.sample()"
   ]
  },
  {
   "cell_type": "code",
   "execution_count": 172,
   "id": "ddec854e",
   "metadata": {},
   "outputs": [
    {
     "data": {
      "text/plain": [
       "(571, 43)"
      ]
     },
     "execution_count": 172,
     "metadata": {},
     "output_type": "execute_result"
    }
   ],
   "source": [
    "df.shape        # This dataset has 571 rows and 43 columns."
   ]
  },
  {
   "cell_type": "code",
   "execution_count": 173,
   "id": "cd349a9e",
   "metadata": {},
   "outputs": [
    {
     "data": {
      "text/plain": [
       "Index(['Seat No.', 'PH-121', 'HS-101', 'CY-105', 'HS-105/12', 'MT-111',\n",
       "       'CS-105', 'CS-106', 'EL-102', 'EE-119', 'ME-107', 'CS-107', 'HS-205/20',\n",
       "       'MT-222', 'EE-222', 'MT-224', 'CS-210', 'CS-211', 'CS-203', 'CS-214',\n",
       "       'EE-217', 'CS-212', 'CS-215', 'MT-331', 'EF-303', 'HS-304', 'CS-301',\n",
       "       'CS-302', 'TC-383', 'MT-442', 'EL-332', 'CS-318', 'CS-306', 'CS-312',\n",
       "       'CS-317', 'CS-403', 'CS-421', 'CS-406', 'CS-414', 'CS-419', 'CS-423',\n",
       "       'CS-412', 'CGPA'],\n",
       "      dtype='object')"
      ]
     },
     "execution_count": 173,
     "metadata": {},
     "output_type": "execute_result"
    }
   ],
   "source": [
    "df.columns      # These are the column names present"
   ]
  },
  {
   "cell_type": "code",
   "execution_count": 174,
   "id": "1be61f64",
   "metadata": {},
   "outputs": [
    {
     "data": {
      "text/plain": [
       "Seat No.      object\n",
       "PH-121        object\n",
       "HS-101        object\n",
       "CY-105        object\n",
       "HS-105/12     object\n",
       "MT-111        object\n",
       "CS-105        object\n",
       "CS-106        object\n",
       "EL-102        object\n",
       "EE-119        object\n",
       "ME-107        object\n",
       "CS-107        object\n",
       "HS-205/20     object\n",
       "MT-222        object\n",
       "EE-222        object\n",
       "MT-224        object\n",
       "CS-210        object\n",
       "CS-211        object\n",
       "CS-203        object\n",
       "CS-214        object\n",
       "EE-217        object\n",
       "CS-212        object\n",
       "CS-215        object\n",
       "MT-331        object\n",
       "EF-303        object\n",
       "HS-304        object\n",
       "CS-301        object\n",
       "CS-302        object\n",
       "TC-383        object\n",
       "MT-442        object\n",
       "EL-332        object\n",
       "CS-318        object\n",
       "CS-306        object\n",
       "CS-312        object\n",
       "CS-317        object\n",
       "CS-403        object\n",
       "CS-421        object\n",
       "CS-406        object\n",
       "CS-414        object\n",
       "CS-419        object\n",
       "CS-423        object\n",
       "CS-412        object\n",
       "CGPA         float64\n",
       "dtype: object"
      ]
     },
     "execution_count": 174,
     "metadata": {},
     "output_type": "execute_result"
    }
   ],
   "source": [
    "df.dtypes     # Only two type of data is present "
   ]
  },
  {
   "cell_type": "code",
   "execution_count": 175,
   "id": "4b7ea9bf",
   "metadata": {},
   "outputs": [
    {
     "name": "stdout",
     "output_type": "stream",
     "text": [
      "<class 'pandas.core.frame.DataFrame'>\n",
      "RangeIndex: 571 entries, 0 to 570\n",
      "Data columns (total 43 columns):\n",
      " #   Column     Non-Null Count  Dtype  \n",
      "---  ------     --------------  -----  \n",
      " 0   Seat No.   571 non-null    object \n",
      " 1   PH-121     571 non-null    object \n",
      " 2   HS-101     571 non-null    object \n",
      " 3   CY-105     570 non-null    object \n",
      " 4   HS-105/12  570 non-null    object \n",
      " 5   MT-111     569 non-null    object \n",
      " 6   CS-105     571 non-null    object \n",
      " 7   CS-106     569 non-null    object \n",
      " 8   EL-102     569 non-null    object \n",
      " 9   EE-119     569 non-null    object \n",
      " 10  ME-107     569 non-null    object \n",
      " 11  CS-107     569 non-null    object \n",
      " 12  HS-205/20  566 non-null    object \n",
      " 13  MT-222     566 non-null    object \n",
      " 14  EE-222     564 non-null    object \n",
      " 15  MT-224     564 non-null    object \n",
      " 16  CS-210     564 non-null    object \n",
      " 17  CS-211     566 non-null    object \n",
      " 18  CS-203     566 non-null    object \n",
      " 19  CS-214     565 non-null    object \n",
      " 20  EE-217     565 non-null    object \n",
      " 21  CS-212     565 non-null    object \n",
      " 22  CS-215     565 non-null    object \n",
      " 23  MT-331     562 non-null    object \n",
      " 24  EF-303     561 non-null    object \n",
      " 25  HS-304     561 non-null    object \n",
      " 26  CS-301     561 non-null    object \n",
      " 27  CS-302     561 non-null    object \n",
      " 28  TC-383     561 non-null    object \n",
      " 29  MT-442     561 non-null    object \n",
      " 30  EL-332     562 non-null    object \n",
      " 31  CS-318     562 non-null    object \n",
      " 32  CS-306     562 non-null    object \n",
      " 33  CS-312     561 non-null    object \n",
      " 34  CS-317     559 non-null    object \n",
      " 35  CS-403     559 non-null    object \n",
      " 36  CS-421     559 non-null    object \n",
      " 37  CS-406     486 non-null    object \n",
      " 38  CS-414     558 non-null    object \n",
      " 39  CS-419     558 non-null    object \n",
      " 40  CS-423     557 non-null    object \n",
      " 41  CS-412     492 non-null    object \n",
      " 42  CGPA       571 non-null    float64\n",
      "dtypes: float64(1), object(42)\n",
      "memory usage: 191.9+ KB\n"
     ]
    }
   ],
   "source": [
    "df.info()         # Null values are present in the dataset & memory usage 191.9+ KB."
   ]
  },
  {
   "cell_type": "code",
   "execution_count": 176,
   "id": "3dbe4bce",
   "metadata": {},
   "outputs": [
    {
     "data": {
      "text/plain": [
       "Seat No.      0\n",
       "PH-121        0\n",
       "HS-101        0\n",
       "CY-105        1\n",
       "HS-105/12     1\n",
       "MT-111        2\n",
       "CS-105        0\n",
       "CS-106        2\n",
       "EL-102        2\n",
       "EE-119        2\n",
       "ME-107        2\n",
       "CS-107        2\n",
       "HS-205/20     5\n",
       "MT-222        5\n",
       "EE-222        7\n",
       "MT-224        7\n",
       "CS-210        7\n",
       "CS-211        5\n",
       "CS-203        5\n",
       "CS-214        6\n",
       "EE-217        6\n",
       "CS-212        6\n",
       "CS-215        6\n",
       "MT-331        9\n",
       "EF-303       10\n",
       "HS-304       10\n",
       "CS-301       10\n",
       "CS-302       10\n",
       "TC-383       10\n",
       "MT-442       10\n",
       "EL-332        9\n",
       "CS-318        9\n",
       "CS-306        9\n",
       "CS-312       10\n",
       "CS-317       12\n",
       "CS-403       12\n",
       "CS-421       12\n",
       "CS-406       85\n",
       "CS-414       13\n",
       "CS-419       13\n",
       "CS-423       14\n",
       "CS-412       79\n",
       "CGPA          0\n",
       "dtype: int64"
      ]
     },
     "execution_count": 176,
     "metadata": {},
     "output_type": "execute_result"
    }
   ],
   "source": [
    "df.isnull().sum()    # In most of the columns null values are present"
   ]
  },
  {
   "cell_type": "code",
   "execution_count": 177,
   "id": "61a01a87",
   "metadata": {},
   "outputs": [
    {
     "data": {
      "image/png": "[encoded data removed]",
      "text/plain": [
       "<Figure size 1080x720 with 2 Axes>"
      ]
     },
     "metadata": {
      "needs_background": "light"
     },
     "output_type": "display_data"
    }
   ],
   "source": [
    "plt.figure(figsize=(15,10))\n",
    "sns.heatmap(df.isnull())            # Visualizing null values using heatmap.\n",
    "plt.show()"
   ]
  },
  {
   "cell_type": "code",
   "execution_count": 178,
   "id": "03d4a0ef",
   "metadata": {},
   "outputs": [
    {
     "name": "stdout",
     "output_type": "stream",
     "text": [
      "CS-97001    1\n",
      "CS-97384    1\n",
      "CS-97378    1\n",
      "CS-97379    1\n",
      "CS-97380    1\n",
      "           ..\n",
      "CS-97185    1\n",
      "CS-97184    1\n",
      "CS-97183    1\n",
      "CS-97182    1\n",
      "CS-97571    1\n",
      "Name: Seat No., Length: 571, dtype: int64\n",
      "\n",
      "\n",
      "A-    112\n",
      "A     111\n",
      "B+     61\n",
      "B      57\n",
      "B-     56\n",
      "D      44\n",
      "C      33\n",
      "C+     31\n",
      "D+     22\n",
      "A+     22\n",
      "C-     19\n",
      "WU      2\n",
      "F       1\n",
      "Name: PH-121, dtype: int64\n",
      "\n",
      "\n",
      "A-    82\n",
      "B-    78\n",
      "C     68\n",
      "B     63\n",
      "B+    59\n",
      "C-    50\n",
      "C+    47\n",
      "D     45\n",
      "A     38\n",
      "D+    36\n",
      "A+     4\n",
      "F      1\n",
      "Name: HS-101, dtype: int64\n",
      "\n",
      "\n",
      "A     177\n",
      "A-    120\n",
      "B+     50\n",
      "B      49\n",
      "B-     42\n",
      "D      31\n",
      "A+     31\n",
      "C      19\n",
      "C+     17\n",
      "C-     16\n",
      "D+     14\n",
      "WU      3\n",
      "F       1\n",
      "Name: CY-105, dtype: int64\n",
      "\n",
      "\n",
      "A     96\n",
      "A-    75\n",
      "B+    70\n",
      "B     57\n",
      "D     45\n",
      "C     41\n",
      "B-    40\n",
      "C+    39\n",
      "C-    36\n",
      "D+    34\n",
      "A+    34\n",
      "WU     2\n",
      "F      1\n",
      "Name: HS-105/12, dtype: int64\n",
      "\n",
      "\n",
      "A-    105\n",
      "A     100\n",
      "B-     70\n",
      "B+     62\n",
      "B      55\n",
      "C-     39\n",
      "C+     33\n",
      "C      30\n",
      "D      26\n",
      "A+     23\n",
      "D+     21\n",
      "WU      3\n",
      "F       2\n",
      "Name: MT-111, dtype: int64\n",
      "\n",
      "\n",
      "A     151\n",
      "A-    134\n",
      "B+     60\n",
      "B      51\n",
      "A+     43\n",
      "B-     38\n",
      "C+     23\n",
      "C      22\n",
      "C-     22\n",
      "D+     15\n",
      "D      12\n",
      "Name: CS-105, dtype: int64\n",
      "\n",
      "\n",
      "A-    116\n",
      "B+    101\n",
      "B      96\n",
      "A      56\n",
      "B-     54\n",
      "C+     41\n",
      "D+     29\n",
      "C-     27\n",
      "D      24\n",
      "C      18\n",
      "A+      4\n",
      "WU      2\n",
      "F       1\n",
      "Name: CS-106, dtype: int64\n",
      "\n",
      "\n",
      "A-    105\n",
      "A      92\n",
      "B+     69\n",
      "B      59\n",
      "B-     53\n",
      "D      38\n",
      "C+     35\n",
      "C-     32\n",
      "C      30\n",
      "A+     29\n",
      "D+     23\n",
      "WU      3\n",
      "F       1\n",
      "Name: EL-102, dtype: int64\n",
      "\n",
      "\n",
      "A-    137\n",
      "B+     83\n",
      "B      77\n",
      "A      68\n",
      "B-     48\n",
      "C      48\n",
      "C+     38\n",
      "D+     26\n",
      "C-     26\n",
      "D      11\n",
      "A+      6\n",
      "WU      1\n",
      "Name: EE-119, dtype: int64\n",
      "\n",
      "\n",
      "A-    79\n",
      "A     77\n",
      "B+    68\n",
      "D     56\n",
      "B-    56\n",
      "B     50\n",
      "C     49\n",
      "C-    48\n",
      "C+    37\n",
      "D+    37\n",
      "A+     8\n",
      "WU     2\n",
      "F      2\n",
      "Name: ME-107, dtype: int64\n",
      "\n",
      "\n",
      "A     105\n",
      "A-     81\n",
      "B+     57\n",
      "B      55\n",
      "C-     49\n",
      "B-     43\n",
      "A+     42\n",
      "D      38\n",
      "C+     34\n",
      "D+     31\n",
      "C      30\n",
      "WU      2\n",
      "I       1\n",
      "F       1\n",
      "Name: CS-107, dtype: int64\n",
      "\n",
      "\n",
      "A-    150\n",
      "A     118\n",
      "B      97\n",
      "B+     89\n",
      "B-     36\n",
      "C+     33\n",
      "C      15\n",
      "C-     11\n",
      "D+      9\n",
      "D       3\n",
      "A+      2\n",
      "F       2\n",
      "WU      1\n",
      "Name: HS-205/20, dtype: int64\n",
      "\n",
      "\n",
      "A-    86\n",
      "A     80\n",
      "D     66\n",
      "B     61\n",
      "B-    52\n",
      "D+    46\n",
      "C     43\n",
      "B+    42\n",
      "C+    39\n",
      "C-    30\n",
      "A+    16\n",
      "F      3\n",
      "WU     1\n",
      "W      1\n",
      "Name: MT-222, dtype: int64\n",
      "\n",
      "\n",
      "A     122\n",
      "A-    121\n",
      "B+     65\n",
      "B      53\n",
      "C      39\n",
      "B-     35\n",
      "A+     32\n",
      "C+     29\n",
      "D      25\n",
      "D+     21\n",
      "C-     16\n",
      "F       4\n",
      "W       2\n",
      "Name: EE-222, dtype: int64\n",
      "\n",
      "\n",
      "A-    120\n",
      "A      80\n",
      "B+     65\n",
      "B      57\n",
      "B-     49\n",
      "C-     43\n",
      "C+     39\n",
      "D+     37\n",
      "D      31\n",
      "C      30\n",
      "A+     10\n",
      "WU      1\n",
      "W       1\n",
      "F       1\n",
      "Name: MT-224, dtype: int64\n",
      "\n",
      "\n",
      "A-    133\n",
      "A     101\n",
      "B+     84\n",
      "B      59\n",
      "B-     58\n",
      "C      30\n",
      "C+     27\n",
      "C-     24\n",
      "D+     21\n",
      "D      12\n",
      "A+     12\n",
      "WU      1\n",
      "W       1\n",
      "F       1\n",
      "Name: CS-210, dtype: int64\n",
      "\n",
      "\n",
      "A-    68\n",
      "A     67\n",
      "B-    60\n",
      "D+    56\n",
      "B+    56\n",
      "B     56\n",
      "C+    55\n",
      "C-    50\n",
      "C     39\n",
      "D     33\n",
      "A+    21\n",
      "F      3\n",
      "WU     1\n",
      "W      1\n",
      "Name: CS-211, dtype: int64\n",
      "\n",
      "\n",
      "A-    88\n",
      "A     81\n",
      "B     66\n",
      "C+    62\n",
      "B+    59\n",
      "B-    53\n",
      "D+    39\n",
      "C     35\n",
      "C-    35\n",
      "D     30\n",
      "A+    15\n",
      "F      2\n",
      "I      1\n",
      "Name: CS-203, dtype: int64\n",
      "\n",
      "\n",
      "C     76\n",
      "A-    73\n",
      "B     63\n",
      "C-    57\n",
      "B-    56\n",
      "A     56\n",
      "D+    47\n",
      "C+    46\n",
      "B+    45\n",
      "D     31\n",
      "A+    12\n",
      "F      2\n",
      "I      1\n",
      "Name: CS-214, dtype: int64\n",
      "\n",
      "\n",
      "A-    137\n",
      "A      97\n",
      "B+     70\n",
      "B      63\n",
      "B-     57\n",
      "C      36\n",
      "C+     29\n",
      "A+     22\n",
      "C-     20\n",
      "D+     19\n",
      "D      12\n",
      "F       2\n",
      "WU      1\n",
      "Name: EE-217, dtype: int64\n",
      "\n",
      "\n",
      "A-    101\n",
      "B+     86\n",
      "B      81\n",
      "B-     65\n",
      "C      44\n",
      "A      43\n",
      "D+     36\n",
      "C+     35\n",
      "C-     35\n",
      "D      33\n",
      "A+      4\n",
      "WU      2\n",
      "Name: CS-212, dtype: int64\n",
      "\n",
      "\n",
      "A-    79\n",
      "A     68\n",
      "B     64\n",
      "B-    59\n",
      "C+    50\n",
      "B+    50\n",
      "C     48\n",
      "C-    47\n",
      "D     42\n",
      "D+    38\n",
      "A+    17\n",
      "WU     1\n",
      "W      1\n",
      "F      1\n",
      "Name: CS-215, dtype: int64\n",
      "\n",
      "\n",
      "A     118\n",
      "A-    103\n",
      "B+     64\n",
      "B      57\n",
      "B-     46\n",
      "C-     32\n",
      "D+     31\n",
      "A+     30\n",
      "C      28\n",
      "C+     27\n",
      "D      22\n",
      "F       4\n",
      "Name: MT-331, dtype: int64\n",
      "\n",
      "\n",
      "B     112\n",
      "B-     92\n",
      "C      61\n",
      "B+     59\n",
      "C+     58\n",
      "C-     56\n",
      "D+     49\n",
      "A-     38\n",
      "D      19\n",
      "A      14\n",
      "F       2\n",
      "WU      1\n",
      "Name: EF-303, dtype: int64\n",
      "\n",
      "\n",
      "A-    128\n",
      "B      72\n",
      "B-     70\n",
      "B+     66\n",
      "C      58\n",
      "C+     53\n",
      "C-     33\n",
      "A      28\n",
      "D      20\n",
      "D+     19\n",
      "F       6\n",
      "A+      4\n",
      "WU      2\n",
      "W       2\n",
      "Name: HS-304, dtype: int64\n",
      "\n",
      "\n",
      "A-    108\n",
      "B+     74\n",
      "B      71\n",
      "A      66\n",
      "B-     60\n",
      "C      41\n",
      "C+     37\n",
      "C-     36\n",
      "D      29\n",
      "D+     29\n",
      "A+      9\n",
      "F       1\n",
      "Name: CS-301, dtype: int64\n",
      "\n",
      "\n",
      "A-    113\n",
      "B     102\n",
      "A      86\n",
      "B+     81\n",
      "B-     60\n",
      "C+     32\n",
      "C      28\n",
      "D      21\n",
      "C-     19\n",
      "D+     10\n",
      "A+      9\n",
      "Name: CS-302, dtype: int64\n",
      "\n",
      "\n",
      "A     105\n",
      "A-     73\n",
      "B+     68\n",
      "B      59\n",
      "C+     44\n",
      "D+     44\n",
      "C-     42\n",
      "C      42\n",
      "B-     40\n",
      "A+     23\n",
      "D      20\n",
      "F       1\n",
      "Name: TC-383, dtype: int64\n",
      "\n",
      "\n",
      "A-    140\n",
      "A     130\n",
      "B+     65\n",
      "B      47\n",
      "A+     39\n",
      "B-     30\n",
      "C-     28\n",
      "C+     24\n",
      "C      24\n",
      "D      20\n",
      "D+     13\n",
      "F       1\n",
      "Name: MT-442, dtype: int64\n",
      "\n",
      "\n",
      "A-    96\n",
      "A     76\n",
      "B+    68\n",
      "B     67\n",
      "B-    62\n",
      "C     49\n",
      "C+    38\n",
      "C-    32\n",
      "D+    22\n",
      "D     22\n",
      "A+    20\n",
      "F      9\n",
      "WU     1\n",
      "Name: EL-332, dtype: int64\n",
      "\n",
      "\n",
      "A-    89\n",
      "B-    69\n",
      "B     68\n",
      "B+    65\n",
      "C     53\n",
      "C+    49\n",
      "A     42\n",
      "C-    40\n",
      "D     36\n",
      "D+    29\n",
      "F     10\n",
      "A+     6\n",
      "WU     5\n",
      "W      1\n",
      "Name: CS-318, dtype: int64\n",
      "\n",
      "\n",
      "A-    120\n",
      "B+     75\n",
      "A      74\n",
      "B-     64\n",
      "B      53\n",
      "C-     40\n",
      "C      37\n",
      "C+     36\n",
      "D      31\n",
      "D+     18\n",
      "A+     10\n",
      "F       3\n",
      "WU      1\n",
      "Name: CS-306, dtype: int64\n",
      "\n",
      "\n",
      "A+    93\n",
      "A     86\n",
      "A-    63\n",
      "D+    52\n",
      "C     48\n",
      "C-    44\n",
      "B+    42\n",
      "B     37\n",
      "C+    37\n",
      "B-    36\n",
      "D     19\n",
      "F      2\n",
      "W      1\n",
      "WU     1\n",
      "Name: CS-312, dtype: int64\n",
      "\n",
      "\n",
      "B-    79\n",
      "B     75\n",
      "C     70\n",
      "A-    66\n",
      "B+    58\n",
      "C+    57\n",
      "A     47\n",
      "C-    41\n",
      "D+    34\n",
      "D     16\n",
      "A+     9\n",
      "F      7\n",
      "Name: CS-317, dtype: int64\n",
      "\n",
      "\n",
      "A     133\n",
      "A-    106\n",
      "B+     62\n",
      "B-     55\n",
      "B      54\n",
      "D+     35\n",
      "C      33\n",
      "C+     32\n",
      "C-     30\n",
      "A+     15\n",
      "D       4\n",
      "Name: CS-403, dtype: int64\n",
      "\n",
      "\n",
      "B     86\n",
      "B-    74\n",
      "C     68\n",
      "C+    61\n",
      "C-    60\n",
      "B+    60\n",
      "A-    47\n",
      "D+    36\n",
      "A     25\n",
      "D     21\n",
      "F     17\n",
      "A+     2\n",
      "W      2\n",
      "Name: CS-421, dtype: int64\n",
      "\n",
      "\n",
      "A-    177\n",
      "A      79\n",
      "B+     64\n",
      "B      58\n",
      "B-     22\n",
      "C+     22\n",
      "C      19\n",
      "D+     14\n",
      "C-      8\n",
      "A+      8\n",
      "F       6\n",
      "D       5\n",
      "W       3\n",
      "WU      1\n",
      "Name: CS-406, dtype: int64\n",
      "\n",
      "\n",
      "A     176\n",
      "A-    156\n",
      "B+     62\n",
      "B      54\n",
      "B-     21\n",
      "A+     21\n",
      "C+     21\n",
      "C      20\n",
      "C-     12\n",
      "F       7\n",
      "D+      3\n",
      "D       3\n",
      "W       2\n",
      "Name: CS-414, dtype: int64\n",
      "\n",
      "\n",
      "A-    120\n",
      "B      89\n",
      "B+     85\n",
      "B-     78\n",
      "A      56\n",
      "C+     46\n",
      "C      40\n",
      "C-     20\n",
      "D+     13\n",
      "D       7\n",
      "A+      2\n",
      "F       2\n",
      "Name: CS-419, dtype: int64\n",
      "\n",
      "\n",
      "A-    122\n",
      "A      78\n",
      "B+     75\n",
      "B      65\n",
      "B-     56\n",
      "C      45\n",
      "C+     39\n",
      "C-     29\n",
      "D+     25\n",
      "D      15\n",
      "F       5\n",
      "A+      3\n",
      "Name: CS-423, dtype: int64\n",
      "\n",
      "\n",
      "A-    157\n",
      "B+     80\n",
      "A      77\n",
      "B      65\n",
      "B-     37\n",
      "C+     24\n",
      "C      19\n",
      "D+      8\n",
      "C-      7\n",
      "F       6\n",
      "D       5\n",
      "A+      4\n",
      "W       3\n",
      "Name: CS-412, dtype: int64\n",
      "\n",
      "\n",
      "3.019    5\n",
      "3.058    3\n",
      "2.793    3\n",
      "3.443    3\n",
      "2.206    3\n",
      "        ..\n",
      "2.555    1\n",
      "2.042    1\n",
      "2.634    1\n",
      "2.053    1\n",
      "1.753    1\n",
      "Name: CGPA, Length: 491, dtype: int64\n",
      "\n",
      "\n"
     ]
    }
   ],
   "source": [
    "for i in df.columns:                 # There are 42 columns features & 1 column CGPA is our label & target variable\n",
    "    print(df[i].value_counts())      # No wide values are present.\n",
    "    print(\"\\n\")"
   ]
  },
  {
   "cell_type": "code",
   "execution_count": 179,
   "id": "4d169f9f",
   "metadata": {},
   "outputs": [
    {
     "data": {
      "text/plain": [
       "3.019    5\n",
       "3.058    3\n",
       "2.793    3\n",
       "3.443    3\n",
       "2.206    3\n",
       "        ..\n",
       "2.555    1\n",
       "2.042    1\n",
       "2.634    1\n",
       "2.053    1\n",
       "1.753    1\n",
       "Name: CGPA, Length: 491, dtype: int64"
      ]
     },
     "execution_count": 179,
     "metadata": {},
     "output_type": "execute_result"
    }
   ],
   "source": [
    "df['CGPA'].value_counts()    # CGPA is a continuous column so its a linear Regression problem."
   ]
  },
  {
   "cell_type": "code",
   "execution_count": 180,
   "id": "33436790",
   "metadata": {},
   "outputs": [
    {
     "data": {
      "text/plain": [
       "0"
      ]
     },
     "execution_count": 180,
     "metadata": {},
     "output_type": "execute_result"
    }
   ],
   "source": [
    "df.duplicated().sum()      # No duplicate values are present in the dataset."
   ]
  },
  {
   "cell_type": "code",
   "execution_count": 181,
   "id": "462e7dca",
   "metadata": {},
   "outputs": [],
   "source": [
    "# Lets treat the null values.\n",
    "df['CY-105']=df['CY-105'].fillna(df['CY-105'].mode()[0])        \n",
    "df['HS-105/12']=df['HS-105/12'].fillna(df['HS-105/12'].mode()[0])     \n",
    "df['MT-111']=df['MT-111'].fillna(df['MT-111'].mode()[0])       \n",
    "df['CS-106']=df['CS-106'].fillna(df['CS-106'].mode()[0])        \n",
    "df['EL-102']=df['EL-102'].fillna(df['EL-102'].mode()[0])       \n",
    "df['EE-119']=df['EE-119'].fillna(df['EE-119'].mode()[0])     \n",
    "df['ME-107']=df['ME-107'].fillna(df['ME-107'].mode()[0])      \n",
    "df['CS-107']=df['CS-107'].fillna(df['CS-107'].mode()[0])\n",
    "df['HS-205/20']=df['HS-205/20'].fillna(df['HS-205/20'].mode()[0])     \n",
    "df['MT-222']=df['MT-222'].fillna(df['MT-222'].mode()[0])    \n",
    "df['EE-222']=df['EE-222'].fillna(df['EE-222'].mode()[0])    \n",
    "df['MT-224']=df['MT-224'].fillna(df['MT-224'].mode()[0])       \n",
    "df['CS-210']=df['CS-210'].fillna(df['CS-210'].mode()[0])       \n",
    "df['CS-211']=df['CS-211'].fillna(df['CS-211'].mode()[0])      \n",
    "df['CS-203']=df['CS-203'].fillna(df['CS-203'].mode()[0])\n",
    "df['CS-214']=df['CS-214'].fillna(df['CS-214'].mode()[0])        \n",
    "df['EE-217']=df['EE-217'].fillna(df['EE-217'].mode()[0])        \n",
    "df['CS-212']=df['CS-212'].fillna(df['CS-212'].mode()[0])        \n",
    "df['CS-215']=df['CS-215'].fillna(df['CS-215'].mode()[0])       \n",
    "df['MT-331']=df['MT-331'].fillna(df['MT-331'].mode()[0])       \n",
    "df['EF-303']=df['EF-303'].fillna(df['EF-303'].mode()[0])     \n",
    "df['HS-304']=df['HS-304'].fillna(df['HS-304'].mode()[0])       \n",
    "df['CS-301']=df['CS-301'].fillna(df['CS-301'].mode()[0])      \n",
    "df['CS-302']=df['CS-302'].fillna(df['CS-302'].mode()[0])       \n",
    "df['TC-383']=df['TC-383'].fillna(df['TC-383'].mode()[0])      \n",
    "df['MT-442']=df['MT-442'].fillna(df['MT-442'].mode()[0])       \n",
    "df['EL-332']=df['EL-332'].fillna(df['EL-332'].mode()[0])        \n",
    "df['CS-318']=df['CS-318'].fillna(df['CS-318'].mode()[0])       \n",
    "df['CS-306']=df['CS-306'].fillna(df['CS-306'].mode()[0])        \n",
    "df['CS-312']=df['CS-312'].fillna(df['CS-312'].mode()[0])       \n",
    "df['CS-317']=df['CS-317'].fillna(df['CS-317'].mode()[0])       \n",
    "df['CS-403']=df['CS-403'].fillna(df['CS-403'].mode()[0])       \n",
    "df['CS-421']=df['CS-421'].fillna(df['CS-421'].mode()[0])       \n",
    "df['CS-406']=df['CS-406'].fillna(df['CS-406'].mode()[0])       \n",
    "df['CS-414']=df['CS-414'].fillna(df['CS-414'].mode()[0])      \n",
    "df['CS-419']=df['CS-419'].fillna(df['CS-419'].mode()[0])       \n",
    "df['CS-423']=df['CS-423'].fillna(df['CS-423'].mode()[0])       \n",
    "df['CS-412']=df['CS-412'].fillna(df['CS-412'].mode()[0])       \n"
   ]
  },
  {
   "cell_type": "code",
   "execution_count": 182,
   "id": "003f9bb4",
   "metadata": {},
   "outputs": [
    {
     "data": {
      "text/plain": [
       "Seat No.     0\n",
       "PH-121       0\n",
       "HS-101       0\n",
       "CY-105       0\n",
       "HS-105/12    0\n",
       "MT-111       0\n",
       "CS-105       0\n",
       "CS-106       0\n",
       "EL-102       0\n",
       "EE-119       0\n",
       "ME-107       0\n",
       "CS-107       0\n",
       "HS-205/20    0\n",
       "MT-222       0\n",
       "EE-222       0\n",
       "MT-224       0\n",
       "CS-210       0\n",
       "CS-211       0\n",
       "CS-203       0\n",
       "CS-214       0\n",
       "EE-217       0\n",
       "CS-212       0\n",
       "CS-215       0\n",
       "MT-331       0\n",
       "EF-303       0\n",
       "HS-304       0\n",
       "CS-301       0\n",
       "CS-302       0\n",
       "TC-383       0\n",
       "MT-442       0\n",
       "EL-332       0\n",
       "CS-318       0\n",
       "CS-306       0\n",
       "CS-312       0\n",
       "CS-317       0\n",
       "CS-403       0\n",
       "CS-421       0\n",
       "CS-406       0\n",
       "CS-414       0\n",
       "CS-419       0\n",
       "CS-423       0\n",
       "CS-412       0\n",
       "CGPA         0\n",
       "dtype: int64"
      ]
     },
     "execution_count": 182,
     "metadata": {},
     "output_type": "execute_result"
    }
   ],
   "source": [
    "df.isnull().sum()        # All the columns has filled with values."
   ]
  },
  {
   "cell_type": "code",
   "execution_count": 183,
   "id": "e19a4b79",
   "metadata": {},
   "outputs": [
    {
     "data": {
      "text/html": [
       "<div>\n",
       "<style scoped>\n",
       "    .dataframe tbody tr th:only-of-type {\n",
       "        vertical-align: middle;\n",
       "    }\n",
       "\n",
       "    .dataframe tbody tr th {\n",
       "        vertical-align: top;\n",
       "    }\n",
       "\n",
       "    .dataframe thead th {\n",
       "        text-align: right;\n",
       "    }\n",
       "</style>\n",
       "<table border=\"1\" class=\"dataframe\">\n",
       "  <thead>\n",
       "    <tr style=\"text-align: right;\">\n",
       "      <th></th>\n",
       "      <th>CGPA</th>\n",
       "    </tr>\n",
       "  </thead>\n",
       "  <tbody>\n",
       "    <tr>\n",
       "      <th>count</th>\n",
       "      <td>571.000000</td>\n",
       "    </tr>\n",
       "    <tr>\n",
       "      <th>mean</th>\n",
       "      <td>2.954888</td>\n",
       "    </tr>\n",
       "    <tr>\n",
       "      <th>std</th>\n",
       "      <td>0.620552</td>\n",
       "    </tr>\n",
       "    <tr>\n",
       "      <th>min</th>\n",
       "      <td>0.800000</td>\n",
       "    </tr>\n",
       "    <tr>\n",
       "      <th>25%</th>\n",
       "      <td>2.538000</td>\n",
       "    </tr>\n",
       "    <tr>\n",
       "      <th>50%</th>\n",
       "      <td>3.029000</td>\n",
       "    </tr>\n",
       "    <tr>\n",
       "      <th>75%</th>\n",
       "      <td>3.451000</td>\n",
       "    </tr>\n",
       "    <tr>\n",
       "      <th>max</th>\n",
       "      <td>3.985000</td>\n",
       "    </tr>\n",
       "  </tbody>\n",
       "</table>\n",
       "</div>"
      ],
      "text/plain": [
       "             CGPA\n",
       "count  571.000000\n",
       "mean     2.954888\n",
       "std      0.620552\n",
       "min      0.800000\n",
       "25%      2.538000\n",
       "50%      3.029000\n",
       "75%      3.451000\n",
       "max      3.985000"
      ]
     },
     "execution_count": 183,
     "metadata": {},
     "output_type": "execute_result"
    }
   ],
   "source": [
    "df.describe()         # Only one column is numeric column. so there wont be much skewness & Outliers are present."
   ]
  },
  {
   "cell_type": "code",
   "execution_count": 184,
   "id": "1a76cecc",
   "metadata": {},
   "outputs": [
    {
     "data": {
      "text/plain": [
       "<AxesSubplot:xlabel='PH-121', ylabel='count'>"
      ]
     },
     "execution_count": 184,
     "metadata": {},
     "output_type": "execute_result"
    },
    {
     "data": {
      "image/png": "[encoded data removed]",
      "text/plain": [
       "<Figure size 432x288 with 1 Axes>"
      ]
     },
     "metadata": {
      "needs_background": "light"
     },
     "output_type": "display_data"
    }
   ],
   "source": [
    "sns.countplot(df['PH-121'])"
   ]
  },
  {
   "cell_type": "code",
   "execution_count": 185,
   "id": "0f0c4621",
   "metadata": {},
   "outputs": [
    {
     "data": {
      "text/plain": [
       "<AxesSubplot:xlabel='HS-105/12', ylabel='count'>"
      ]
     },
     "execution_count": 185,
     "metadata": {},
     "output_type": "execute_result"
    },
    {
     "data": {
      "image/png": "[encoded data removed]",
      "text/plain": [
       "<Figure size 432x288 with 1 Axes>"
      ]
     },
     "metadata": {
      "needs_background": "light"
     },
     "output_type": "display_data"
    }
   ],
   "source": [
    "sns.countplot(df['HS-105/12'])"
   ]
  },
  {
   "cell_type": "code",
   "execution_count": 186,
   "id": "b6403a7a",
   "metadata": {},
   "outputs": [
    {
     "data": {
      "text/plain": [
       "<AxesSubplot:xlabel='HS-101', ylabel='Count'>"
      ]
     },
     "execution_count": 186,
     "metadata": {},
     "output_type": "execute_result"
    },
    {
     "data": {
      "image/png": "[encoded data removed]",
      "text/plain": [
       "<Figure size 432x288 with 1 Axes>"
      ]
     },
     "metadata": {
      "needs_background": "light"
     },
     "output_type": "display_data"
    }
   ],
   "source": [
    "sns.histplot(df['HS-101'])"
   ]
  },
  {
   "cell_type": "code",
   "execution_count": 187,
   "id": "6860c833",
   "metadata": {},
   "outputs": [
    {
     "data": {
      "text/plain": [
       "<AxesSubplot:xlabel='MT-111', ylabel='count'>"
      ]
     },
     "execution_count": 187,
     "metadata": {},
     "output_type": "execute_result"
    },
    {
     "data": {
      "image/png": "[encoded data removed]",
      "text/plain": [
       "<Figure size 432x288 with 1 Axes>"
      ]
     },
     "metadata": {
      "needs_background": "light"
     },
     "output_type": "display_data"
    }
   ],
   "source": [
    "sns.countplot(df['MT-111'])"
   ]
  },
  {
   "cell_type": "code",
   "execution_count": 188,
   "id": "e90b97e1",
   "metadata": {},
   "outputs": [
    {
     "data": {
      "text/plain": [
       "<AxesSubplot:xlabel='HS-205/20', ylabel='Count'>"
      ]
     },
     "execution_count": 188,
     "metadata": {},
     "output_type": "execute_result"
    },
    {
     "data": {
      "image/png": "[encoded data removed]",
      "text/plain": [
       "<Figure size 432x288 with 1 Axes>"
      ]
     },
     "metadata": {
      "needs_background": "light"
     },
     "output_type": "display_data"
    }
   ],
   "source": [
    "sns.histplot(df['HS-205/20'])"
   ]
  },
  {
   "cell_type": "code",
   "execution_count": 189,
   "id": "bd4ed638",
   "metadata": {},
   "outputs": [
    {
     "data": {
      "text/plain": [
       "<AxesSubplot:xlabel='EE-222'>"
      ]
     },
     "execution_count": 189,
     "metadata": {},
     "output_type": "execute_result"
    },
    {
     "data": {
      "image/png": "[encoded data removed]",
      "text/plain": [
       "<Figure size 432x288 with 1 Axes>"
      ]
     },
     "metadata": {
      "needs_background": "light"
     },
     "output_type": "display_data"
    }
   ],
   "source": [
    "sns.swarmplot(x='EE-222',data=df)"
   ]
  },
  {
   "cell_type": "code",
   "execution_count": 190,
   "id": "6c0bdbc3",
   "metadata": {},
   "outputs": [
    {
     "data": {
      "text/plain": [
       "<seaborn.axisgrid.FacetGrid at 0x18aba5ce8b0>"
      ]
     },
     "execution_count": 190,
     "metadata": {},
     "output_type": "execute_result"
    },
    {
     "data": {
      "image/png": "[encoded data removed]",
      "text/plain": [
       "<Figure size 360x360 with 1 Axes>"
      ]
     },
     "metadata": {
      "needs_background": "light"
     },
     "output_type": "display_data"
    }
   ],
   "source": [
    "sns.catplot(x='EE-217',data=df)"
   ]
  },
  {
   "cell_type": "code",
   "execution_count": 191,
   "id": "08e96bce",
   "metadata": {},
   "outputs": [
    {
     "data": {
      "text/plain": [
       "<seaborn.axisgrid.FacetGrid at 0x18aba3ed190>"
      ]
     },
     "execution_count": 191,
     "metadata": {},
     "output_type": "execute_result"
    },
    {
     "data": {
      "image/png": "[encoded data removed]",
      "text/plain": [
       "<Figure size 360x360 with 1 Axes>"
      ]
     },
     "metadata": {
      "needs_background": "light"
     },
     "output_type": "display_data"
    }
   ],
   "source": [
    "sns.catplot(x='PH-121',y='HS-101',data=df)"
   ]
  },
  {
   "cell_type": "code",
   "execution_count": 192,
   "id": "9b93a900",
   "metadata": {},
   "outputs": [
    {
     "data": {
      "text/plain": [
       "<AxesSubplot:xlabel='HS-105/12', ylabel='CY-105'>"
      ]
     },
     "execution_count": 192,
     "metadata": {},
     "output_type": "execute_result"
    },
    {
     "data": {
      "image/png": "[encoded data removed]",
      "text/plain": [
       "<Figure size 432x288 with 1 Axes>"
      ]
     },
     "metadata": {
      "needs_background": "light"
     },
     "output_type": "display_data"
    }
   ],
   "source": [
    "sns.scatterplot(x='HS-105/12',y='CY-105',data=df)"
   ]
  },
  {
   "cell_type": "code",
   "execution_count": 193,
   "id": "8a5f5cab",
   "metadata": {},
   "outputs": [
    {
     "data": {
      "text/plain": [
       "<AxesSubplot:xlabel='Seat No.', ylabel='CGPA'>"
      ]
     },
     "execution_count": 193,
     "metadata": {},
     "output_type": "execute_result"
    },
    {
     "data": {
      "image/png": "[encoded data removed]",
      "text/plain": [
       "<Figure size 432x288 with 1 Axes>"
      ]
     },
     "metadata": {
      "needs_background": "light"
     },
     "output_type": "display_data"
    }
   ],
   "source": [
    "sns.stripplot(x='Seat No.',y='CGPA',data=df)"
   ]
  },
  {
   "cell_type": "code",
   "execution_count": 194,
   "id": "43eba77d",
   "metadata": {},
   "outputs": [
    {
     "data": {
      "text/plain": [
       "<AxesSubplot:xlabel='CY-105', ylabel='CGPA'>"
      ]
     },
     "execution_count": 194,
     "metadata": {},
     "output_type": "execute_result"
    },
    {
     "data": {
      "image/png": "[encoded data removed]",
      "text/plain": [
       "<Figure size 432x288 with 1 Axes>"
      ]
     },
     "metadata": {
      "needs_background": "light"
     },
     "output_type": "display_data"
    }
   ],
   "source": [
    "sns.scatterplot(x='CY-105',y='CGPA',data=df)"
   ]
  },
  {
   "cell_type": "code",
   "execution_count": 195,
   "id": "50b14b87",
   "metadata": {},
   "outputs": [
    {
     "data": {
      "text/plain": [
       "<AxesSubplot:xlabel='MT-111', ylabel='CGPA'>"
      ]
     },
     "execution_count": 195,
     "metadata": {},
     "output_type": "execute_result"
    },
    {
     "data": {
      "image/png": "[encoded data removed]",
      "text/plain": [
       "<Figure size 432x288 with 1 Axes>"
      ]
     },
     "metadata": {
      "needs_background": "light"
     },
     "output_type": "display_data"
    }
   ],
   "source": [
    "sns.scatterplot(x='MT-111',y='CGPA',data=df)"
   ]
  },
  {
   "cell_type": "code",
   "execution_count": 196,
   "id": "5fe5a20c",
   "metadata": {},
   "outputs": [
    {
     "data": {
      "text/plain": [
       "<AxesSubplot:xlabel='EL-102', ylabel='CGPA'>"
      ]
     },
     "execution_count": 196,
     "metadata": {},
     "output_type": "execute_result"
    },
    {
     "data": {
      "image/png": "[encoded data removed]",
      "text/plain": [
       "<Figure size 432x288 with 1 Axes>"
      ]
     },
     "metadata": {
      "needs_background": "light"
     },
     "output_type": "display_data"
    }
   ],
   "source": [
    "sns.stripplot(x='EL-102',y='CGPA',data=df)"
   ]
  },
  {
   "cell_type": "code",
   "execution_count": 197,
   "id": "651b539c",
   "metadata": {},
   "outputs": [
    {
     "data": {
      "text/plain": [
       "<AxesSubplot:xlabel='CS-107', ylabel='CGPA'>"
      ]
     },
     "execution_count": 197,
     "metadata": {},
     "output_type": "execute_result"
    },
    {
     "data": {
      "image/png": "[encoded data removed]",
      "text/plain": [
       "<Figure size 432x288 with 1 Axes>"
      ]
     },
     "metadata": {
      "needs_background": "light"
     },
     "output_type": "display_data"
    }
   ],
   "source": [
    "sns.swarmplot(x='CS-107',y='CGPA',data=df)"
   ]
  },
  {
   "cell_type": "code",
   "execution_count": 198,
   "id": "8f33be69",
   "metadata": {},
   "outputs": [
    {
     "data": {
      "text/plain": [
       "<seaborn.axisgrid.FacetGrid at 0x18abc591190>"
      ]
     },
     "execution_count": 198,
     "metadata": {},
     "output_type": "execute_result"
    },
    {
     "data": {
      "image/png": "[encoded data removed]",
      "text/plain": [
       "<Figure size 360x360 with 1 Axes>"
      ]
     },
     "metadata": {
      "needs_background": "light"
     },
     "output_type": "display_data"
    }
   ],
   "source": [
    "sns.catplot(x='EE-222',y='CGPA',data=df)"
   ]
  },
  {
   "cell_type": "code",
   "execution_count": 199,
   "id": "eb37f55e",
   "metadata": {},
   "outputs": [
    {
     "data": {
      "text/plain": [
       "<AxesSubplot:xlabel='CS-211', ylabel='CGPA'>"
      ]
     },
     "execution_count": 199,
     "metadata": {},
     "output_type": "execute_result"
    },
    {
     "data": {
      "image/png": "[encoded data removed]",
      "text/plain": [
       "<Figure size 432x288 with 1 Axes>"
      ]
     },
     "metadata": {
      "needs_background": "light"
     },
     "output_type": "display_data"
    }
   ],
   "source": [
    "sns.stripplot(x='CS-211',y='CGPA',data=df)"
   ]
  },
  {
   "cell_type": "code",
   "execution_count": 200,
   "id": "2e059d48",
   "metadata": {},
   "outputs": [
    {
     "data": {
      "text/plain": [
       "<AxesSubplot:xlabel='EE-217', ylabel='CGPA'>"
      ]
     },
     "execution_count": 200,
     "metadata": {},
     "output_type": "execute_result"
    },
    {
     "data": {
      "image/png": "[encoded data removed]",
      "text/plain": [
       "<Figure size 432x288 with 1 Axes>"
      ]
     },
     "metadata": {
      "needs_background": "light"
     },
     "output_type": "display_data"
    }
   ],
   "source": [
    "sns.swarmplot(x='EE-217',y='CGPA',data=df)"
   ]
  },
  {
   "cell_type": "code",
   "execution_count": 201,
   "id": "d14a532b",
   "metadata": {},
   "outputs": [
    {
     "data": {
      "text/plain": [
       "<seaborn.axisgrid.FacetGrid at 0x18abc8db220>"
      ]
     },
     "execution_count": 201,
     "metadata": {},
     "output_type": "execute_result"
    },
    {
     "data": {
      "image/png": "[encoded data removed]",
      "text/plain": [
       "<Figure size 360x360 with 1 Axes>"
      ]
     },
     "metadata": {
      "needs_background": "light"
     },
     "output_type": "display_data"
    }
   ],
   "source": [
    "sns.catplot(x='MT-331',y='CGPA',data=df)"
   ]
  },
  {
   "cell_type": "code",
   "execution_count": 202,
   "id": "965e7b66",
   "metadata": {},
   "outputs": [
    {
     "data": {
      "text/plain": [
       "<seaborn.axisgrid.FacetGrid at 0x18abc918af0>"
      ]
     },
     "execution_count": 202,
     "metadata": {},
     "output_type": "execute_result"
    },
    {
     "data": {
      "image/png": "[encoded data removed]",
      "text/plain": [
       "<Figure size 360x360 with 1 Axes>"
      ]
     },
     "metadata": {
      "needs_background": "light"
     },
     "output_type": "display_data"
    }
   ],
   "source": [
    "sns.catplot(x='CS-301',y='CGPA',data=df)"
   ]
  },
  {
   "cell_type": "code",
   "execution_count": 203,
   "id": "80e3fdf4",
   "metadata": {},
   "outputs": [
    {
     "data": {
      "text/plain": [
       "<AxesSubplot:xlabel='TC-383', ylabel='CGPA'>"
      ]
     },
     "execution_count": 203,
     "metadata": {},
     "output_type": "execute_result"
    },
    {
     "data": {
      "image/png": "[encoded data removed]",
      "text/plain": [
       "<Figure size 432x288 with 1 Axes>"
      ]
     },
     "metadata": {
      "needs_background": "light"
     },
     "output_type": "display_data"
    }
   ],
   "source": [
    "sns.stripplot(x='TC-383',y='CGPA',data=df)"
   ]
  },
  {
   "cell_type": "code",
   "execution_count": 204,
   "id": "33337d99",
   "metadata": {},
   "outputs": [
    {
     "data": {
      "text/plain": [
       "<AxesSubplot:xlabel='CS-318', ylabel='CGPA'>"
      ]
     },
     "execution_count": 204,
     "metadata": {},
     "output_type": "execute_result"
    },
    {
     "data": {
      "image/png": "[encoded data removed]",
      "text/plain": [
       "<Figure size 432x288 with 1 Axes>"
      ]
     },
     "metadata": {
      "needs_background": "light"
     },
     "output_type": "display_data"
    }
   ],
   "source": [
    "sns.swarmplot(x='CS-318',y='CGPA',data=df)"
   ]
  },
  {
   "cell_type": "code",
   "execution_count": 205,
   "id": "c24b38b6",
   "metadata": {},
   "outputs": [
    {
     "data": {
      "text/plain": [
       "<AxesSubplot:xlabel='CS-306', ylabel='CGPA'>"
      ]
     },
     "execution_count": 205,
     "metadata": {},
     "output_type": "execute_result"
    },
    {
     "data": {
      "image/png": "[encoded data removed]",
      "text/plain": [
       "<Figure size 432x288 with 1 Axes>"
      ]
     },
     "metadata": {
      "needs_background": "light"
     },
     "output_type": "display_data"
    }
   ],
   "source": [
    "sns.stripplot(x='CS-306',y='CGPA',data=df)"
   ]
  },
  {
   "cell_type": "code",
   "execution_count": 206,
   "id": "77ba084f",
   "metadata": {},
   "outputs": [
    {
     "data": {
      "text/plain": [
       "<AxesSubplot:xlabel='CS-317', ylabel='CGPA'>"
      ]
     },
     "execution_count": 206,
     "metadata": {},
     "output_type": "execute_result"
    },
    {
     "data": {
      "image/png": "[encoded data removed]",
      "text/plain": [
       "<Figure size 432x288 with 1 Axes>"
      ]
     },
     "metadata": {
      "needs_background": "light"
     },
     "output_type": "display_data"
    }
   ],
   "source": [
    "sns.stripplot(x='CS-317',y='CGPA',data=df)"
   ]
  },
  {
   "cell_type": "code",
   "execution_count": 207,
   "id": "99713338",
   "metadata": {},
   "outputs": [
    {
     "data": {
      "text/plain": [
       "<AxesSubplot:xlabel='CS-421', ylabel='CGPA'>"
      ]
     },
     "execution_count": 207,
     "metadata": {},
     "output_type": "execute_result"
    },
    {
     "data": {
      "image/png": "[encoded data removed]",
      "text/plain": [
       "<Figure size 432x288 with 1 Axes>"
      ]
     },
     "metadata": {
      "needs_background": "light"
     },
     "output_type": "display_data"
    }
   ],
   "source": [
    "sns.swarmplot(x='CS-421',y='CGPA',data=df)"
   ]
  },
  {
   "cell_type": "markdown",
   "id": "30cef172",
   "metadata": {},
   "source": [
    "sns.catplot(x='CS-414',y='CGPA',data=df)"
   ]
  },
  {
   "cell_type": "code",
   "execution_count": 208,
   "id": "05661096",
   "metadata": {},
   "outputs": [
    {
     "data": {
      "text/plain": [
       "<AxesSubplot:xlabel='CS-423', ylabel='CGPA'>"
      ]
     },
     "execution_count": 208,
     "metadata": {},
     "output_type": "execute_result"
    },
    {
     "data": {
      "image/png": "[encoded data removed]",
      "text/plain": [
       "<Figure size 432x288 with 1 Axes>"
      ]
     },
     "metadata": {
      "needs_background": "light"
     },
     "output_type": "display_data"
    }
   ],
   "source": [
    "sns.scatterplot(x='CS-423',y='CGPA',data=df)"
   ]
  },
  {
   "cell_type": "markdown",
   "id": "b3d019d2",
   "metadata": {},
   "source": [
    "By seeing this all plot there wont be any corelation between two independent variable and target variable."
   ]
  },
  {
   "cell_type": "code",
   "execution_count": 209,
   "id": "544a5564",
   "metadata": {},
   "outputs": [
    {
     "data": {
      "text/plain": [
       "<seaborn.axisgrid.PairGrid at 0x18abdd5cd60>"
      ]
     },
     "execution_count": 209,
     "metadata": {},
     "output_type": "execute_result"
    },
    {
     "data": {
      "image/png": "[encoded data removed]",
      "text/plain": [
       "<Figure size 180x180 with 2 Axes>"
      ]
     },
     "metadata": {
      "needs_background": "light"
     },
     "output_type": "display_data"
    }
   ],
   "source": [
    "sns.pairplot(df)   # Since all the columns are categorical column so pair plot will work for numeric column."
   ]
  },
  {
   "cell_type": "code",
   "execution_count": 210,
   "id": "5cf8089a",
   "metadata": {},
   "outputs": [
    {
     "data": {
      "text/plain": [
       "CGPA   -0.497203\n",
       "dtype: float64"
      ]
     },
     "execution_count": 210,
     "metadata": {},
     "output_type": "execute_result"
    }
   ],
   "source": [
    "df.skew()"
   ]
  },
  {
   "cell_type": "code",
   "execution_count": 211,
   "id": "17c086be",
   "metadata": {},
   "outputs": [
    {
     "data": {
      "text/html": [
       "<div>\n",
       "<style scoped>\n",
       "    .dataframe tbody tr th:only-of-type {\n",
       "        vertical-align: middle;\n",
       "    }\n",
       "\n",
       "    .dataframe tbody tr th {\n",
       "        vertical-align: top;\n",
       "    }\n",
       "\n",
       "    .dataframe thead th {\n",
       "        text-align: right;\n",
       "    }\n",
       "</style>\n",
       "<table border=\"1\" class=\"dataframe\">\n",
       "  <thead>\n",
       "    <tr style=\"text-align: right;\">\n",
       "      <th></th>\n",
       "      <th>CGPA</th>\n",
       "    </tr>\n",
       "  </thead>\n",
       "  <tbody>\n",
       "    <tr>\n",
       "      <th>CGPA</th>\n",
       "      <td>1.0</td>\n",
       "    </tr>\n",
       "  </tbody>\n",
       "</table>\n",
       "</div>"
      ],
      "text/plain": [
       "      CGPA\n",
       "CGPA   1.0"
      ]
     },
     "execution_count": 211,
     "metadata": {},
     "output_type": "execute_result"
    }
   ],
   "source": [
    "df.corr()"
   ]
  },
  {
   "cell_type": "markdown",
   "id": "5eeb4380",
   "metadata": {},
   "source": [
    "Since all the columns except CGPA is categorical column so we can't check outliers by using boxplot & can't visualize how the data is distibuted by using distplot, can't check the correlation between each columns."
   ]
  },
  {
   "cell_type": "code",
   "execution_count": 212,
   "id": "d0c87f6e",
   "metadata": {},
   "outputs": [
    {
     "data": {
      "text/plain": [
       "CS-97001    1\n",
       "CS-97384    1\n",
       "CS-97378    1\n",
       "CS-97379    1\n",
       "CS-97380    1\n",
       "           ..\n",
       "CS-97185    1\n",
       "CS-97184    1\n",
       "CS-97183    1\n",
       "CS-97182    1\n",
       "CS-97571    1\n",
       "Name: Seat No., Length: 571, dtype: int64"
      ]
     },
     "execution_count": 212,
     "metadata": {},
     "output_type": "execute_result"
    }
   ],
   "source": [
    "df['Seat No.'].value_counts()"
   ]
  },
  {
   "cell_type": "code",
   "execution_count": 213,
   "id": "c0c9c1b1",
   "metadata": {},
   "outputs": [
    {
     "data": {
      "text/html": [
       "<div>\n",
       "<style scoped>\n",
       "    .dataframe tbody tr th:only-of-type {\n",
       "        vertical-align: middle;\n",
       "    }\n",
       "\n",
       "    .dataframe tbody tr th {\n",
       "        vertical-align: top;\n",
       "    }\n",
       "\n",
       "    .dataframe thead th {\n",
       "        text-align: right;\n",
       "    }\n",
       "</style>\n",
       "<table border=\"1\" class=\"dataframe\">\n",
       "  <thead>\n",
       "    <tr style=\"text-align: right;\">\n",
       "      <th></th>\n",
       "      <th>PH-121</th>\n",
       "      <th>HS-101</th>\n",
       "      <th>CY-105</th>\n",
       "      <th>HS-105/12</th>\n",
       "      <th>MT-111</th>\n",
       "      <th>CS-105</th>\n",
       "      <th>CS-106</th>\n",
       "      <th>EL-102</th>\n",
       "      <th>EE-119</th>\n",
       "      <th>ME-107</th>\n",
       "      <th>...</th>\n",
       "      <th>CS-312</th>\n",
       "      <th>CS-317</th>\n",
       "      <th>CS-403</th>\n",
       "      <th>CS-421</th>\n",
       "      <th>CS-406</th>\n",
       "      <th>CS-414</th>\n",
       "      <th>CS-419</th>\n",
       "      <th>CS-423</th>\n",
       "      <th>CS-412</th>\n",
       "      <th>CGPA</th>\n",
       "    </tr>\n",
       "  </thead>\n",
       "  <tbody>\n",
       "    <tr>\n",
       "      <th>0</th>\n",
       "      <td>B-</td>\n",
       "      <td>D+</td>\n",
       "      <td>C-</td>\n",
       "      <td>C</td>\n",
       "      <td>C-</td>\n",
       "      <td>D+</td>\n",
       "      <td>D</td>\n",
       "      <td>C-</td>\n",
       "      <td>B-</td>\n",
       "      <td>C-</td>\n",
       "      <td>...</td>\n",
       "      <td>C-</td>\n",
       "      <td>C-</td>\n",
       "      <td>C-</td>\n",
       "      <td>C-</td>\n",
       "      <td>A-</td>\n",
       "      <td>A</td>\n",
       "      <td>C-</td>\n",
       "      <td>B</td>\n",
       "      <td>A-</td>\n",
       "      <td>2.205</td>\n",
       "    </tr>\n",
       "    <tr>\n",
       "      <th>1</th>\n",
       "      <td>A</td>\n",
       "      <td>D</td>\n",
       "      <td>D+</td>\n",
       "      <td>D</td>\n",
       "      <td>B-</td>\n",
       "      <td>C</td>\n",
       "      <td>D</td>\n",
       "      <td>A</td>\n",
       "      <td>D+</td>\n",
       "      <td>D</td>\n",
       "      <td>...</td>\n",
       "      <td>D+</td>\n",
       "      <td>D</td>\n",
       "      <td>C</td>\n",
       "      <td>D</td>\n",
       "      <td>A-</td>\n",
       "      <td>B-</td>\n",
       "      <td>C</td>\n",
       "      <td>C</td>\n",
       "      <td>B</td>\n",
       "      <td>2.008</td>\n",
       "    </tr>\n",
       "    <tr>\n",
       "      <th>2</th>\n",
       "      <td>A</td>\n",
       "      <td>B</td>\n",
       "      <td>A</td>\n",
       "      <td>B-</td>\n",
       "      <td>B+</td>\n",
       "      <td>A</td>\n",
       "      <td>B-</td>\n",
       "      <td>B+</td>\n",
       "      <td>A-</td>\n",
       "      <td>A-</td>\n",
       "      <td>...</td>\n",
       "      <td>B</td>\n",
       "      <td>B</td>\n",
       "      <td>A</td>\n",
       "      <td>C</td>\n",
       "      <td>A</td>\n",
       "      <td>A</td>\n",
       "      <td>A</td>\n",
       "      <td>A-</td>\n",
       "      <td>A</td>\n",
       "      <td>3.608</td>\n",
       "    </tr>\n",
       "    <tr>\n",
       "      <th>3</th>\n",
       "      <td>D</td>\n",
       "      <td>C+</td>\n",
       "      <td>D+</td>\n",
       "      <td>D</td>\n",
       "      <td>D</td>\n",
       "      <td>A-</td>\n",
       "      <td>D+</td>\n",
       "      <td>C-</td>\n",
       "      <td>D</td>\n",
       "      <td>C+</td>\n",
       "      <td>...</td>\n",
       "      <td>D+</td>\n",
       "      <td>C</td>\n",
       "      <td>D+</td>\n",
       "      <td>C-</td>\n",
       "      <td>B-</td>\n",
       "      <td>B</td>\n",
       "      <td>C+</td>\n",
       "      <td>C+</td>\n",
       "      <td>C+</td>\n",
       "      <td>1.906</td>\n",
       "    </tr>\n",
       "    <tr>\n",
       "      <th>4</th>\n",
       "      <td>A-</td>\n",
       "      <td>A-</td>\n",
       "      <td>A-</td>\n",
       "      <td>B+</td>\n",
       "      <td>A</td>\n",
       "      <td>A</td>\n",
       "      <td>A-</td>\n",
       "      <td>B+</td>\n",
       "      <td>A</td>\n",
       "      <td>A-</td>\n",
       "      <td>...</td>\n",
       "      <td>B-</td>\n",
       "      <td>B+</td>\n",
       "      <td>B+</td>\n",
       "      <td>B-</td>\n",
       "      <td>A-</td>\n",
       "      <td>A</td>\n",
       "      <td>A-</td>\n",
       "      <td>A-</td>\n",
       "      <td>A</td>\n",
       "      <td>3.448</td>\n",
       "    </tr>\n",
       "    <tr>\n",
       "      <th>...</th>\n",
       "      <td>...</td>\n",
       "      <td>...</td>\n",
       "      <td>...</td>\n",
       "      <td>...</td>\n",
       "      <td>...</td>\n",
       "      <td>...</td>\n",
       "      <td>...</td>\n",
       "      <td>...</td>\n",
       "      <td>...</td>\n",
       "      <td>...</td>\n",
       "      <td>...</td>\n",
       "      <td>...</td>\n",
       "      <td>...</td>\n",
       "      <td>...</td>\n",
       "      <td>...</td>\n",
       "      <td>...</td>\n",
       "      <td>...</td>\n",
       "      <td>...</td>\n",
       "      <td>...</td>\n",
       "      <td>...</td>\n",
       "      <td>...</td>\n",
       "    </tr>\n",
       "    <tr>\n",
       "      <th>566</th>\n",
       "      <td>B</td>\n",
       "      <td>A</td>\n",
       "      <td>A</td>\n",
       "      <td>A-</td>\n",
       "      <td>A+</td>\n",
       "      <td>A</td>\n",
       "      <td>A-</td>\n",
       "      <td>A-</td>\n",
       "      <td>A+</td>\n",
       "      <td>B+</td>\n",
       "      <td>...</td>\n",
       "      <td>A-</td>\n",
       "      <td>A-</td>\n",
       "      <td>A</td>\n",
       "      <td>A</td>\n",
       "      <td>A</td>\n",
       "      <td>B+</td>\n",
       "      <td>B+</td>\n",
       "      <td>B</td>\n",
       "      <td>A</td>\n",
       "      <td>3.798</td>\n",
       "    </tr>\n",
       "    <tr>\n",
       "      <th>567</th>\n",
       "      <td>A+</td>\n",
       "      <td>A</td>\n",
       "      <td>A</td>\n",
       "      <td>A</td>\n",
       "      <td>A</td>\n",
       "      <td>A</td>\n",
       "      <td>A</td>\n",
       "      <td>A-</td>\n",
       "      <td>A</td>\n",
       "      <td>A</td>\n",
       "      <td>...</td>\n",
       "      <td>B+</td>\n",
       "      <td>B+</td>\n",
       "      <td>A</td>\n",
       "      <td>A</td>\n",
       "      <td>A-</td>\n",
       "      <td>B</td>\n",
       "      <td>A-</td>\n",
       "      <td>C</td>\n",
       "      <td>A-</td>\n",
       "      <td>3.772</td>\n",
       "    </tr>\n",
       "    <tr>\n",
       "      <th>568</th>\n",
       "      <td>B</td>\n",
       "      <td>A</td>\n",
       "      <td>A-</td>\n",
       "      <td>B+</td>\n",
       "      <td>A</td>\n",
       "      <td>A</td>\n",
       "      <td>A</td>\n",
       "      <td>A</td>\n",
       "      <td>A</td>\n",
       "      <td>B</td>\n",
       "      <td>...</td>\n",
       "      <td>A-</td>\n",
       "      <td>B</td>\n",
       "      <td>A</td>\n",
       "      <td>B+</td>\n",
       "      <td>A</td>\n",
       "      <td>C</td>\n",
       "      <td>B+</td>\n",
       "      <td>A-</td>\n",
       "      <td>A-</td>\n",
       "      <td>3.470</td>\n",
       "    </tr>\n",
       "    <tr>\n",
       "      <th>569</th>\n",
       "      <td>A</td>\n",
       "      <td>B+</td>\n",
       "      <td>D</td>\n",
       "      <td>A</td>\n",
       "      <td>D</td>\n",
       "      <td>D+</td>\n",
       "      <td>B-</td>\n",
       "      <td>C-</td>\n",
       "      <td>B-</td>\n",
       "      <td>C-</td>\n",
       "      <td>...</td>\n",
       "      <td>D</td>\n",
       "      <td>B</td>\n",
       "      <td>B</td>\n",
       "      <td>C-</td>\n",
       "      <td>D</td>\n",
       "      <td>C</td>\n",
       "      <td>B</td>\n",
       "      <td>B-</td>\n",
       "      <td>C</td>\n",
       "      <td>2.193</td>\n",
       "    </tr>\n",
       "    <tr>\n",
       "      <th>570</th>\n",
       "      <td>C</td>\n",
       "      <td>D</td>\n",
       "      <td>D</td>\n",
       "      <td>C</td>\n",
       "      <td>C</td>\n",
       "      <td>D+</td>\n",
       "      <td>B</td>\n",
       "      <td>C+</td>\n",
       "      <td>C</td>\n",
       "      <td>D+</td>\n",
       "      <td>...</td>\n",
       "      <td>C+</td>\n",
       "      <td>C</td>\n",
       "      <td>B-</td>\n",
       "      <td>D</td>\n",
       "      <td>F</td>\n",
       "      <td>C-</td>\n",
       "      <td>B+</td>\n",
       "      <td>D</td>\n",
       "      <td>C-</td>\n",
       "      <td>1.753</td>\n",
       "    </tr>\n",
       "  </tbody>\n",
       "</table>\n",
       "<p>571 rows × 42 columns</p>\n",
       "</div>"
      ],
      "text/plain": [
       "    PH-121 HS-101 CY-105 HS-105/12 MT-111 CS-105 CS-106 EL-102 EE-119 ME-107  \\\n",
       "0       B-     D+     C-         C     C-     D+      D     C-     B-     C-   \n",
       "1        A      D     D+         D     B-      C      D      A     D+      D   \n",
       "2        A      B      A        B-     B+      A     B-     B+     A-     A-   \n",
       "3        D     C+     D+         D      D     A-     D+     C-      D     C+   \n",
       "4       A-     A-     A-        B+      A      A     A-     B+      A     A-   \n",
       "..     ...    ...    ...       ...    ...    ...    ...    ...    ...    ...   \n",
       "566      B      A      A        A-     A+      A     A-     A-     A+     B+   \n",
       "567     A+      A      A         A      A      A      A     A-      A      A   \n",
       "568      B      A     A-        B+      A      A      A      A      A      B   \n",
       "569      A     B+      D         A      D     D+     B-     C-     B-     C-   \n",
       "570      C      D      D         C      C     D+      B     C+      C     D+   \n",
       "\n",
       "     ... CS-312 CS-317 CS-403 CS-421 CS-406 CS-414 CS-419 CS-423 CS-412   CGPA  \n",
       "0    ...     C-     C-     C-     C-     A-      A     C-      B     A-  2.205  \n",
       "1    ...     D+      D      C      D     A-     B-      C      C      B  2.008  \n",
       "2    ...      B      B      A      C      A      A      A     A-      A  3.608  \n",
       "3    ...     D+      C     D+     C-     B-      B     C+     C+     C+  1.906  \n",
       "4    ...     B-     B+     B+     B-     A-      A     A-     A-      A  3.448  \n",
       "..   ...    ...    ...    ...    ...    ...    ...    ...    ...    ...    ...  \n",
       "566  ...     A-     A-      A      A      A     B+     B+      B      A  3.798  \n",
       "567  ...     B+     B+      A      A     A-      B     A-      C     A-  3.772  \n",
       "568  ...     A-      B      A     B+      A      C     B+     A-     A-  3.470  \n",
       "569  ...      D      B      B     C-      D      C      B     B-      C  2.193  \n",
       "570  ...     C+      C     B-      D      F     C-     B+      D     C-  1.753  \n",
       "\n",
       "[571 rows x 42 columns]"
      ]
     },
     "execution_count": 213,
     "metadata": {},
     "output_type": "execute_result"
    }
   ],
   "source": [
    "df.drop(columns='Seat No.',inplace=True)        # Seat No gives the unique values so it won't give any information to predict\n",
    "df                                              # the target variable so we can drop the column."
   ]
  },
  {
   "cell_type": "code",
   "execution_count": 214,
   "id": "20826f7d",
   "metadata": {},
   "outputs": [
    {
     "data": {
      "text/html": [
       "<div>\n",
       "<style scoped>\n",
       "    .dataframe tbody tr th:only-of-type {\n",
       "        vertical-align: middle;\n",
       "    }\n",
       "\n",
       "    .dataframe tbody tr th {\n",
       "        vertical-align: top;\n",
       "    }\n",
       "\n",
       "    .dataframe thead th {\n",
       "        text-align: right;\n",
       "    }\n",
       "</style>\n",
       "<table border=\"1\" class=\"dataframe\">\n",
       "  <thead>\n",
       "    <tr style=\"text-align: right;\">\n",
       "      <th></th>\n",
       "      <th>PH-121</th>\n",
       "      <th>HS-101</th>\n",
       "      <th>CY-105</th>\n",
       "      <th>HS-105/12</th>\n",
       "      <th>MT-111</th>\n",
       "      <th>CS-105</th>\n",
       "      <th>CS-106</th>\n",
       "      <th>EL-102</th>\n",
       "      <th>EE-119</th>\n",
       "      <th>ME-107</th>\n",
       "      <th>...</th>\n",
       "      <th>CS-312</th>\n",
       "      <th>CS-317</th>\n",
       "      <th>CS-403</th>\n",
       "      <th>CS-421</th>\n",
       "      <th>CS-406</th>\n",
       "      <th>CS-414</th>\n",
       "      <th>CS-419</th>\n",
       "      <th>CS-423</th>\n",
       "      <th>CS-412</th>\n",
       "      <th>CGPA</th>\n",
       "    </tr>\n",
       "  </thead>\n",
       "  <tbody>\n",
       "    <tr>\n",
       "      <th>0</th>\n",
       "      <td>5.0</td>\n",
       "      <td>10.0</td>\n",
       "      <td>8.0</td>\n",
       "      <td>6.0</td>\n",
       "      <td>8.0</td>\n",
       "      <td>10.0</td>\n",
       "      <td>9.0</td>\n",
       "      <td>8.0</td>\n",
       "      <td>5.0</td>\n",
       "      <td>8.0</td>\n",
       "      <td>...</td>\n",
       "      <td>8.0</td>\n",
       "      <td>8.0</td>\n",
       "      <td>8.0</td>\n",
       "      <td>8.0</td>\n",
       "      <td>2.0</td>\n",
       "      <td>0.0</td>\n",
       "      <td>8.0</td>\n",
       "      <td>3.0</td>\n",
       "      <td>2.0</td>\n",
       "      <td>2.205</td>\n",
       "    </tr>\n",
       "    <tr>\n",
       "      <th>1</th>\n",
       "      <td>0.0</td>\n",
       "      <td>9.0</td>\n",
       "      <td>10.0</td>\n",
       "      <td>9.0</td>\n",
       "      <td>5.0</td>\n",
       "      <td>6.0</td>\n",
       "      <td>9.0</td>\n",
       "      <td>0.0</td>\n",
       "      <td>10.0</td>\n",
       "      <td>9.0</td>\n",
       "      <td>...</td>\n",
       "      <td>10.0</td>\n",
       "      <td>9.0</td>\n",
       "      <td>6.0</td>\n",
       "      <td>9.0</td>\n",
       "      <td>2.0</td>\n",
       "      <td>5.0</td>\n",
       "      <td>6.0</td>\n",
       "      <td>6.0</td>\n",
       "      <td>3.0</td>\n",
       "      <td>2.008</td>\n",
       "    </tr>\n",
       "    <tr>\n",
       "      <th>2</th>\n",
       "      <td>0.0</td>\n",
       "      <td>3.0</td>\n",
       "      <td>0.0</td>\n",
       "      <td>5.0</td>\n",
       "      <td>4.0</td>\n",
       "      <td>0.0</td>\n",
       "      <td>5.0</td>\n",
       "      <td>4.0</td>\n",
       "      <td>2.0</td>\n",
       "      <td>2.0</td>\n",
       "      <td>...</td>\n",
       "      <td>3.0</td>\n",
       "      <td>3.0</td>\n",
       "      <td>0.0</td>\n",
       "      <td>6.0</td>\n",
       "      <td>0.0</td>\n",
       "      <td>0.0</td>\n",
       "      <td>0.0</td>\n",
       "      <td>2.0</td>\n",
       "      <td>0.0</td>\n",
       "      <td>3.608</td>\n",
       "    </tr>\n",
       "    <tr>\n",
       "      <th>3</th>\n",
       "      <td>9.0</td>\n",
       "      <td>7.0</td>\n",
       "      <td>10.0</td>\n",
       "      <td>9.0</td>\n",
       "      <td>9.0</td>\n",
       "      <td>2.0</td>\n",
       "      <td>10.0</td>\n",
       "      <td>8.0</td>\n",
       "      <td>9.0</td>\n",
       "      <td>7.0</td>\n",
       "      <td>...</td>\n",
       "      <td>10.0</td>\n",
       "      <td>6.0</td>\n",
       "      <td>10.0</td>\n",
       "      <td>8.0</td>\n",
       "      <td>5.0</td>\n",
       "      <td>3.0</td>\n",
       "      <td>7.0</td>\n",
       "      <td>7.0</td>\n",
       "      <td>7.0</td>\n",
       "      <td>1.906</td>\n",
       "    </tr>\n",
       "    <tr>\n",
       "      <th>4</th>\n",
       "      <td>2.0</td>\n",
       "      <td>2.0</td>\n",
       "      <td>2.0</td>\n",
       "      <td>4.0</td>\n",
       "      <td>0.0</td>\n",
       "      <td>0.0</td>\n",
       "      <td>2.0</td>\n",
       "      <td>4.0</td>\n",
       "      <td>0.0</td>\n",
       "      <td>2.0</td>\n",
       "      <td>...</td>\n",
       "      <td>5.0</td>\n",
       "      <td>4.0</td>\n",
       "      <td>4.0</td>\n",
       "      <td>5.0</td>\n",
       "      <td>2.0</td>\n",
       "      <td>0.0</td>\n",
       "      <td>2.0</td>\n",
       "      <td>2.0</td>\n",
       "      <td>0.0</td>\n",
       "      <td>3.448</td>\n",
       "    </tr>\n",
       "    <tr>\n",
       "      <th>...</th>\n",
       "      <td>...</td>\n",
       "      <td>...</td>\n",
       "      <td>...</td>\n",
       "      <td>...</td>\n",
       "      <td>...</td>\n",
       "      <td>...</td>\n",
       "      <td>...</td>\n",
       "      <td>...</td>\n",
       "      <td>...</td>\n",
       "      <td>...</td>\n",
       "      <td>...</td>\n",
       "      <td>...</td>\n",
       "      <td>...</td>\n",
       "      <td>...</td>\n",
       "      <td>...</td>\n",
       "      <td>...</td>\n",
       "      <td>...</td>\n",
       "      <td>...</td>\n",
       "      <td>...</td>\n",
       "      <td>...</td>\n",
       "      <td>...</td>\n",
       "    </tr>\n",
       "    <tr>\n",
       "      <th>566</th>\n",
       "      <td>3.0</td>\n",
       "      <td>0.0</td>\n",
       "      <td>0.0</td>\n",
       "      <td>2.0</td>\n",
       "      <td>1.0</td>\n",
       "      <td>0.0</td>\n",
       "      <td>2.0</td>\n",
       "      <td>2.0</td>\n",
       "      <td>1.0</td>\n",
       "      <td>4.0</td>\n",
       "      <td>...</td>\n",
       "      <td>2.0</td>\n",
       "      <td>2.0</td>\n",
       "      <td>0.0</td>\n",
       "      <td>0.0</td>\n",
       "      <td>0.0</td>\n",
       "      <td>4.0</td>\n",
       "      <td>4.0</td>\n",
       "      <td>3.0</td>\n",
       "      <td>0.0</td>\n",
       "      <td>3.798</td>\n",
       "    </tr>\n",
       "    <tr>\n",
       "      <th>567</th>\n",
       "      <td>1.0</td>\n",
       "      <td>0.0</td>\n",
       "      <td>0.0</td>\n",
       "      <td>0.0</td>\n",
       "      <td>0.0</td>\n",
       "      <td>0.0</td>\n",
       "      <td>0.0</td>\n",
       "      <td>2.0</td>\n",
       "      <td>0.0</td>\n",
       "      <td>0.0</td>\n",
       "      <td>...</td>\n",
       "      <td>4.0</td>\n",
       "      <td>4.0</td>\n",
       "      <td>0.0</td>\n",
       "      <td>0.0</td>\n",
       "      <td>2.0</td>\n",
       "      <td>3.0</td>\n",
       "      <td>2.0</td>\n",
       "      <td>6.0</td>\n",
       "      <td>2.0</td>\n",
       "      <td>3.772</td>\n",
       "    </tr>\n",
       "    <tr>\n",
       "      <th>568</th>\n",
       "      <td>3.0</td>\n",
       "      <td>0.0</td>\n",
       "      <td>2.0</td>\n",
       "      <td>4.0</td>\n",
       "      <td>0.0</td>\n",
       "      <td>0.0</td>\n",
       "      <td>0.0</td>\n",
       "      <td>0.0</td>\n",
       "      <td>0.0</td>\n",
       "      <td>3.0</td>\n",
       "      <td>...</td>\n",
       "      <td>2.0</td>\n",
       "      <td>3.0</td>\n",
       "      <td>0.0</td>\n",
       "      <td>4.0</td>\n",
       "      <td>0.0</td>\n",
       "      <td>6.0</td>\n",
       "      <td>4.0</td>\n",
       "      <td>2.0</td>\n",
       "      <td>2.0</td>\n",
       "      <td>3.470</td>\n",
       "    </tr>\n",
       "    <tr>\n",
       "      <th>569</th>\n",
       "      <td>0.0</td>\n",
       "      <td>4.0</td>\n",
       "      <td>9.0</td>\n",
       "      <td>0.0</td>\n",
       "      <td>9.0</td>\n",
       "      <td>10.0</td>\n",
       "      <td>5.0</td>\n",
       "      <td>8.0</td>\n",
       "      <td>5.0</td>\n",
       "      <td>8.0</td>\n",
       "      <td>...</td>\n",
       "      <td>9.0</td>\n",
       "      <td>3.0</td>\n",
       "      <td>3.0</td>\n",
       "      <td>8.0</td>\n",
       "      <td>9.0</td>\n",
       "      <td>6.0</td>\n",
       "      <td>3.0</td>\n",
       "      <td>5.0</td>\n",
       "      <td>6.0</td>\n",
       "      <td>2.193</td>\n",
       "    </tr>\n",
       "    <tr>\n",
       "      <th>570</th>\n",
       "      <td>6.0</td>\n",
       "      <td>9.0</td>\n",
       "      <td>9.0</td>\n",
       "      <td>6.0</td>\n",
       "      <td>6.0</td>\n",
       "      <td>10.0</td>\n",
       "      <td>3.0</td>\n",
       "      <td>7.0</td>\n",
       "      <td>6.0</td>\n",
       "      <td>10.0</td>\n",
       "      <td>...</td>\n",
       "      <td>7.0</td>\n",
       "      <td>6.0</td>\n",
       "      <td>5.0</td>\n",
       "      <td>9.0</td>\n",
       "      <td>11.0</td>\n",
       "      <td>8.0</td>\n",
       "      <td>4.0</td>\n",
       "      <td>9.0</td>\n",
       "      <td>8.0</td>\n",
       "      <td>1.753</td>\n",
       "    </tr>\n",
       "  </tbody>\n",
       "</table>\n",
       "<p>571 rows × 42 columns</p>\n",
       "</div>"
      ],
      "text/plain": [
       "     PH-121  HS-101  CY-105  HS-105/12  MT-111  CS-105  CS-106  EL-102  \\\n",
       "0       5.0    10.0     8.0        6.0     8.0    10.0     9.0     8.0   \n",
       "1       0.0     9.0    10.0        9.0     5.0     6.0     9.0     0.0   \n",
       "2       0.0     3.0     0.0        5.0     4.0     0.0     5.0     4.0   \n",
       "3       9.0     7.0    10.0        9.0     9.0     2.0    10.0     8.0   \n",
       "4       2.0     2.0     2.0        4.0     0.0     0.0     2.0     4.0   \n",
       "..      ...     ...     ...        ...     ...     ...     ...     ...   \n",
       "566     3.0     0.0     0.0        2.0     1.0     0.0     2.0     2.0   \n",
       "567     1.0     0.0     0.0        0.0     0.0     0.0     0.0     2.0   \n",
       "568     3.0     0.0     2.0        4.0     0.0     0.0     0.0     0.0   \n",
       "569     0.0     4.0     9.0        0.0     9.0    10.0     5.0     8.0   \n",
       "570     6.0     9.0     9.0        6.0     6.0    10.0     3.0     7.0   \n",
       "\n",
       "     EE-119  ME-107  ...  CS-312  CS-317  CS-403  CS-421  CS-406  CS-414  \\\n",
       "0       5.0     8.0  ...     8.0     8.0     8.0     8.0     2.0     0.0   \n",
       "1      10.0     9.0  ...    10.0     9.0     6.0     9.0     2.0     5.0   \n",
       "2       2.0     2.0  ...     3.0     3.0     0.0     6.0     0.0     0.0   \n",
       "3       9.0     7.0  ...    10.0     6.0    10.0     8.0     5.0     3.0   \n",
       "4       0.0     2.0  ...     5.0     4.0     4.0     5.0     2.0     0.0   \n",
       "..      ...     ...  ...     ...     ...     ...     ...     ...     ...   \n",
       "566     1.0     4.0  ...     2.0     2.0     0.0     0.0     0.0     4.0   \n",
       "567     0.0     0.0  ...     4.0     4.0     0.0     0.0     2.0     3.0   \n",
       "568     0.0     3.0  ...     2.0     3.0     0.0     4.0     0.0     6.0   \n",
       "569     5.0     8.0  ...     9.0     3.0     3.0     8.0     9.0     6.0   \n",
       "570     6.0    10.0  ...     7.0     6.0     5.0     9.0    11.0     8.0   \n",
       "\n",
       "     CS-419  CS-423  CS-412   CGPA  \n",
       "0       8.0     3.0     2.0  2.205  \n",
       "1       6.0     6.0     3.0  2.008  \n",
       "2       0.0     2.0     0.0  3.608  \n",
       "3       7.0     7.0     7.0  1.906  \n",
       "4       2.0     2.0     0.0  3.448  \n",
       "..      ...     ...     ...    ...  \n",
       "566     4.0     3.0     0.0  3.798  \n",
       "567     2.0     6.0     2.0  3.772  \n",
       "568     4.0     2.0     2.0  3.470  \n",
       "569     3.0     5.0     6.0  2.193  \n",
       "570     4.0     9.0     8.0  1.753  \n",
       "\n",
       "[571 rows x 42 columns]"
      ]
     },
     "execution_count": 214,
     "metadata": {},
     "output_type": "execute_result"
    }
   ],
   "source": [
    "from sklearn.preprocessing import OrdinalEncoder          # Encoding categorical column.\n",
    "OE=OrdinalEncoder()\n",
    "for i in df.columns:\n",
    "    if df[i].dtypes=='object':\n",
    "        df[i]=OE.fit_transform(df[i].values.reshape(-1,1))\n",
    "df"
   ]
  },
  {
   "cell_type": "code",
   "execution_count": 215,
   "id": "ab2e3def",
   "metadata": {},
   "outputs": [],
   "source": [
    "x=df.drop('CGPA',axis=1)\n",
    "y=df[\"CGPA\"]                # Seperating features and target variable."
   ]
  },
  {
   "cell_type": "code",
   "execution_count": 216,
   "id": "063a729f",
   "metadata": {},
   "outputs": [
    {
     "data": {
      "text/plain": [
       "(571, 41)"
      ]
     },
     "execution_count": 216,
     "metadata": {},
     "output_type": "execute_result"
    }
   ],
   "source": [
    "x.shape"
   ]
  },
  {
   "cell_type": "code",
   "execution_count": 217,
   "id": "a1464c23",
   "metadata": {},
   "outputs": [
    {
     "data": {
      "text/plain": [
       "(571,)"
      ]
     },
     "execution_count": 217,
     "metadata": {},
     "output_type": "execute_result"
    }
   ],
   "source": [
    "y.shape"
   ]
  },
  {
   "cell_type": "code",
   "execution_count": 218,
   "id": "15faaae8",
   "metadata": {},
   "outputs": [
    {
     "data": {
      "text/html": [
       "<div>\n",
       "<style scoped>\n",
       "    .dataframe tbody tr th:only-of-type {\n",
       "        vertical-align: middle;\n",
       "    }\n",
       "\n",
       "    .dataframe tbody tr th {\n",
       "        vertical-align: top;\n",
       "    }\n",
       "\n",
       "    .dataframe thead th {\n",
       "        text-align: right;\n",
       "    }\n",
       "</style>\n",
       "<table border=\"1\" class=\"dataframe\">\n",
       "  <thead>\n",
       "    <tr style=\"text-align: right;\">\n",
       "      <th></th>\n",
       "      <th>PH-121</th>\n",
       "      <th>HS-101</th>\n",
       "      <th>CY-105</th>\n",
       "      <th>HS-105/12</th>\n",
       "      <th>MT-111</th>\n",
       "      <th>CS-105</th>\n",
       "      <th>CS-106</th>\n",
       "      <th>EL-102</th>\n",
       "      <th>EE-119</th>\n",
       "      <th>ME-107</th>\n",
       "      <th>...</th>\n",
       "      <th>CS-306</th>\n",
       "      <th>CS-312</th>\n",
       "      <th>CS-317</th>\n",
       "      <th>CS-403</th>\n",
       "      <th>CS-421</th>\n",
       "      <th>CS-406</th>\n",
       "      <th>CS-414</th>\n",
       "      <th>CS-419</th>\n",
       "      <th>CS-423</th>\n",
       "      <th>CS-412</th>\n",
       "    </tr>\n",
       "  </thead>\n",
       "  <tbody>\n",
       "    <tr>\n",
       "      <th>0</th>\n",
       "      <td>0.400402</td>\n",
       "      <td>1.770900</td>\n",
       "      <td>1.722261</td>\n",
       "      <td>0.549869</td>\n",
       "      <td>1.374222</td>\n",
       "      <td>2.657832</td>\n",
       "      <td>1.790004</td>\n",
       "      <td>1.333963</td>\n",
       "      <td>0.419492</td>\n",
       "      <td>1.024565</td>\n",
       "      <td>...</td>\n",
       "      <td>0.663660</td>\n",
       "      <td>1.169315</td>\n",
       "      <td>1.155824</td>\n",
       "      <td>1.533685</td>\n",
       "      <td>0.958939</td>\n",
       "      <td>-0.399094</td>\n",
       "      <td>-0.960095</td>\n",
       "      <td>1.740513</td>\n",
       "      <td>-0.346121</td>\n",
       "      <td>-0.450178</td>\n",
       "    </tr>\n",
       "    <tr>\n",
       "      <th>1</th>\n",
       "      <td>-1.242052</td>\n",
       "      <td>1.411559</td>\n",
       "      <td>2.397448</td>\n",
       "      <td>1.488043</td>\n",
       "      <td>0.369509</td>\n",
       "      <td>1.173242</td>\n",
       "      <td>1.790004</td>\n",
       "      <td>-1.307365</td>\n",
       "      <td>2.302589</td>\n",
       "      <td>1.342687</td>\n",
       "      <td>...</td>\n",
       "      <td>1.715324</td>\n",
       "      <td>1.764660</td>\n",
       "      <td>1.521056</td>\n",
       "      <td>0.862110</td>\n",
       "      <td>1.325686</td>\n",
       "      <td>-0.399094</td>\n",
       "      <td>1.042149</td>\n",
       "      <td>0.900418</td>\n",
       "      <td>0.727983</td>\n",
       "      <td>-0.021043</td>\n",
       "    </tr>\n",
       "    <tr>\n",
       "      <th>2</th>\n",
       "      <td>-1.242052</td>\n",
       "      <td>-0.744483</td>\n",
       "      <td>-0.978490</td>\n",
       "      <td>0.237145</td>\n",
       "      <td>0.034605</td>\n",
       "      <td>-1.053643</td>\n",
       "      <td>0.322008</td>\n",
       "      <td>0.013299</td>\n",
       "      <td>-0.710366</td>\n",
       "      <td>-0.884168</td>\n",
       "      <td>...</td>\n",
       "      <td>-0.738559</td>\n",
       "      <td>-0.319046</td>\n",
       "      <td>-0.670339</td>\n",
       "      <td>-1.152616</td>\n",
       "      <td>0.225444</td>\n",
       "      <td>-1.210063</td>\n",
       "      <td>-0.960095</td>\n",
       "      <td>-1.619869</td>\n",
       "      <td>-0.704156</td>\n",
       "      <td>-1.308446</td>\n",
       "    </tr>\n",
       "    <tr>\n",
       "      <th>3</th>\n",
       "      <td>1.714365</td>\n",
       "      <td>0.692879</td>\n",
       "      <td>2.397448</td>\n",
       "      <td>1.488043</td>\n",
       "      <td>1.709126</td>\n",
       "      <td>-0.311348</td>\n",
       "      <td>2.157003</td>\n",
       "      <td>1.333963</td>\n",
       "      <td>1.925970</td>\n",
       "      <td>0.706443</td>\n",
       "      <td>...</td>\n",
       "      <td>1.364769</td>\n",
       "      <td>1.764660</td>\n",
       "      <td>0.425358</td>\n",
       "      <td>2.205260</td>\n",
       "      <td>0.958939</td>\n",
       "      <td>0.817361</td>\n",
       "      <td>0.241251</td>\n",
       "      <td>1.320466</td>\n",
       "      <td>1.086017</td>\n",
       "      <td>1.695494</td>\n",
       "    </tr>\n",
       "    <tr>\n",
       "      <th>4</th>\n",
       "      <td>-0.585070</td>\n",
       "      <td>-1.103823</td>\n",
       "      <td>-0.303302</td>\n",
       "      <td>-0.075580</td>\n",
       "      <td>-1.305012</td>\n",
       "      <td>-1.053643</td>\n",
       "      <td>-0.778989</td>\n",
       "      <td>0.013299</td>\n",
       "      <td>-1.463605</td>\n",
       "      <td>-0.884168</td>\n",
       "      <td>...</td>\n",
       "      <td>-0.738559</td>\n",
       "      <td>0.276298</td>\n",
       "      <td>-0.305107</td>\n",
       "      <td>0.190534</td>\n",
       "      <td>-0.141304</td>\n",
       "      <td>-0.399094</td>\n",
       "      <td>-0.960095</td>\n",
       "      <td>-0.779774</td>\n",
       "      <td>-0.704156</td>\n",
       "      <td>-1.308446</td>\n",
       "    </tr>\n",
       "    <tr>\n",
       "      <th>...</th>\n",
       "      <td>...</td>\n",
       "      <td>...</td>\n",
       "      <td>...</td>\n",
       "      <td>...</td>\n",
       "      <td>...</td>\n",
       "      <td>...</td>\n",
       "      <td>...</td>\n",
       "      <td>...</td>\n",
       "      <td>...</td>\n",
       "      <td>...</td>\n",
       "      <td>...</td>\n",
       "      <td>...</td>\n",
       "      <td>...</td>\n",
       "      <td>...</td>\n",
       "      <td>...</td>\n",
       "      <td>...</td>\n",
       "      <td>...</td>\n",
       "      <td>...</td>\n",
       "      <td>...</td>\n",
       "      <td>...</td>\n",
       "      <td>...</td>\n",
       "    </tr>\n",
       "    <tr>\n",
       "      <th>566</th>\n",
       "      <td>-0.256579</td>\n",
       "      <td>-1.822504</td>\n",
       "      <td>-0.978490</td>\n",
       "      <td>-0.701029</td>\n",
       "      <td>-0.970108</td>\n",
       "      <td>-1.053643</td>\n",
       "      <td>-0.778989</td>\n",
       "      <td>-0.647033</td>\n",
       "      <td>-1.086986</td>\n",
       "      <td>-0.247924</td>\n",
       "      <td>...</td>\n",
       "      <td>-0.037450</td>\n",
       "      <td>-0.616719</td>\n",
       "      <td>-1.035572</td>\n",
       "      <td>-1.152616</td>\n",
       "      <td>-1.975041</td>\n",
       "      <td>-1.210063</td>\n",
       "      <td>0.641700</td>\n",
       "      <td>0.060322</td>\n",
       "      <td>-0.346121</td>\n",
       "      <td>-1.308446</td>\n",
       "    </tr>\n",
       "    <tr>\n",
       "      <th>567</th>\n",
       "      <td>-0.913561</td>\n",
       "      <td>-1.822504</td>\n",
       "      <td>-0.978490</td>\n",
       "      <td>-1.326478</td>\n",
       "      <td>-1.305012</td>\n",
       "      <td>-1.053643</td>\n",
       "      <td>-1.512987</td>\n",
       "      <td>-0.647033</td>\n",
       "      <td>-1.463605</td>\n",
       "      <td>-1.520412</td>\n",
       "      <td>...</td>\n",
       "      <td>-0.738559</td>\n",
       "      <td>-0.021374</td>\n",
       "      <td>-0.305107</td>\n",
       "      <td>-1.152616</td>\n",
       "      <td>-1.975041</td>\n",
       "      <td>-0.399094</td>\n",
       "      <td>0.241251</td>\n",
       "      <td>-0.779774</td>\n",
       "      <td>0.727983</td>\n",
       "      <td>-0.450178</td>\n",
       "    </tr>\n",
       "    <tr>\n",
       "      <th>568</th>\n",
       "      <td>-0.256579</td>\n",
       "      <td>-1.822504</td>\n",
       "      <td>-0.303302</td>\n",
       "      <td>-0.075580</td>\n",
       "      <td>-1.305012</td>\n",
       "      <td>-1.053643</td>\n",
       "      <td>-1.512987</td>\n",
       "      <td>-1.307365</td>\n",
       "      <td>-1.463605</td>\n",
       "      <td>-0.566046</td>\n",
       "      <td>...</td>\n",
       "      <td>-0.037450</td>\n",
       "      <td>-0.616719</td>\n",
       "      <td>-0.670339</td>\n",
       "      <td>-1.152616</td>\n",
       "      <td>-0.508051</td>\n",
       "      <td>-1.210063</td>\n",
       "      <td>1.442597</td>\n",
       "      <td>0.060322</td>\n",
       "      <td>-0.704156</td>\n",
       "      <td>-0.450178</td>\n",
       "    </tr>\n",
       "    <tr>\n",
       "      <th>569</th>\n",
       "      <td>-1.242052</td>\n",
       "      <td>-0.385142</td>\n",
       "      <td>2.059854</td>\n",
       "      <td>-1.326478</td>\n",
       "      <td>1.709126</td>\n",
       "      <td>2.657832</td>\n",
       "      <td>0.322008</td>\n",
       "      <td>1.333963</td>\n",
       "      <td>0.419492</td>\n",
       "      <td>1.024565</td>\n",
       "      <td>...</td>\n",
       "      <td>-0.037450</td>\n",
       "      <td>1.466987</td>\n",
       "      <td>-0.670339</td>\n",
       "      <td>-0.145253</td>\n",
       "      <td>0.958939</td>\n",
       "      <td>2.439300</td>\n",
       "      <td>1.442597</td>\n",
       "      <td>-0.359726</td>\n",
       "      <td>0.369948</td>\n",
       "      <td>1.266360</td>\n",
       "    </tr>\n",
       "    <tr>\n",
       "      <th>570</th>\n",
       "      <td>0.728893</td>\n",
       "      <td>1.411559</td>\n",
       "      <td>2.059854</td>\n",
       "      <td>0.549869</td>\n",
       "      <td>0.704413</td>\n",
       "      <td>2.657832</td>\n",
       "      <td>-0.411990</td>\n",
       "      <td>1.003797</td>\n",
       "      <td>0.796111</td>\n",
       "      <td>1.660810</td>\n",
       "      <td>...</td>\n",
       "      <td>2.065879</td>\n",
       "      <td>0.871643</td>\n",
       "      <td>0.425358</td>\n",
       "      <td>0.526322</td>\n",
       "      <td>1.325686</td>\n",
       "      <td>3.250269</td>\n",
       "      <td>2.243495</td>\n",
       "      <td>0.060322</td>\n",
       "      <td>1.802087</td>\n",
       "      <td>2.124628</td>\n",
       "    </tr>\n",
       "  </tbody>\n",
       "</table>\n",
       "<p>571 rows × 41 columns</p>\n",
       "</div>"
      ],
      "text/plain": [
       "       PH-121    HS-101    CY-105  HS-105/12    MT-111    CS-105    CS-106  \\\n",
       "0    0.400402  1.770900  1.722261   0.549869  1.374222  2.657832  1.790004   \n",
       "1   -1.242052  1.411559  2.397448   1.488043  0.369509  1.173242  1.790004   \n",
       "2   -1.242052 -0.744483 -0.978490   0.237145  0.034605 -1.053643  0.322008   \n",
       "3    1.714365  0.692879  2.397448   1.488043  1.709126 -0.311348  2.157003   \n",
       "4   -0.585070 -1.103823 -0.303302  -0.075580 -1.305012 -1.053643 -0.778989   \n",
       "..        ...       ...       ...        ...       ...       ...       ...   \n",
       "566 -0.256579 -1.822504 -0.978490  -0.701029 -0.970108 -1.053643 -0.778989   \n",
       "567 -0.913561 -1.822504 -0.978490  -1.326478 -1.305012 -1.053643 -1.512987   \n",
       "568 -0.256579 -1.822504 -0.303302  -0.075580 -1.305012 -1.053643 -1.512987   \n",
       "569 -1.242052 -0.385142  2.059854  -1.326478  1.709126  2.657832  0.322008   \n",
       "570  0.728893  1.411559  2.059854   0.549869  0.704413  2.657832 -0.411990   \n",
       "\n",
       "       EL-102    EE-119    ME-107  ...    CS-306    CS-312    CS-317  \\\n",
       "0    1.333963  0.419492  1.024565  ...  0.663660  1.169315  1.155824   \n",
       "1   -1.307365  2.302589  1.342687  ...  1.715324  1.764660  1.521056   \n",
       "2    0.013299 -0.710366 -0.884168  ... -0.738559 -0.319046 -0.670339   \n",
       "3    1.333963  1.925970  0.706443  ...  1.364769  1.764660  0.425358   \n",
       "4    0.013299 -1.463605 -0.884168  ... -0.738559  0.276298 -0.305107   \n",
       "..        ...       ...       ...  ...       ...       ...       ...   \n",
       "566 -0.647033 -1.086986 -0.247924  ... -0.037450 -0.616719 -1.035572   \n",
       "567 -0.647033 -1.463605 -1.520412  ... -0.738559 -0.021374 -0.305107   \n",
       "568 -1.307365 -1.463605 -0.566046  ... -0.037450 -0.616719 -0.670339   \n",
       "569  1.333963  0.419492  1.024565  ... -0.037450  1.466987 -0.670339   \n",
       "570  1.003797  0.796111  1.660810  ...  2.065879  0.871643  0.425358   \n",
       "\n",
       "       CS-403    CS-421    CS-406    CS-414    CS-419    CS-423    CS-412  \n",
       "0    1.533685  0.958939 -0.399094 -0.960095  1.740513 -0.346121 -0.450178  \n",
       "1    0.862110  1.325686 -0.399094  1.042149  0.900418  0.727983 -0.021043  \n",
       "2   -1.152616  0.225444 -1.210063 -0.960095 -1.619869 -0.704156 -1.308446  \n",
       "3    2.205260  0.958939  0.817361  0.241251  1.320466  1.086017  1.695494  \n",
       "4    0.190534 -0.141304 -0.399094 -0.960095 -0.779774 -0.704156 -1.308446  \n",
       "..        ...       ...       ...       ...       ...       ...       ...  \n",
       "566 -1.152616 -1.975041 -1.210063  0.641700  0.060322 -0.346121 -1.308446  \n",
       "567 -1.152616 -1.975041 -0.399094  0.241251 -0.779774  0.727983 -0.450178  \n",
       "568 -1.152616 -0.508051 -1.210063  1.442597  0.060322 -0.704156 -0.450178  \n",
       "569 -0.145253  0.958939  2.439300  1.442597 -0.359726  0.369948  1.266360  \n",
       "570  0.526322  1.325686  3.250269  2.243495  0.060322  1.802087  2.124628  \n",
       "\n",
       "[571 rows x 41 columns]"
      ]
     },
     "execution_count": 218,
     "metadata": {},
     "output_type": "execute_result"
    }
   ],
   "source": [
    "from sklearn.preprocessing import StandardScaler           # Applying scaling technique\n",
    "scaler=StandardScaler()\n",
    "x=pd.DataFrame(scaler.fit_transform(x),columns=x.columns)\n",
    "x"
   ]
  },
  {
   "cell_type": "code",
   "execution_count": 219,
   "id": "c9d65fa6",
   "metadata": {},
   "outputs": [],
   "source": [
    "from sklearn.model_selection import train_test_split\n",
    "from sklearn.metrics import r2_score,mean_squared_error,mean_absolute_error,roc_auc_score,roc_curve\n",
    "from sklearn.linear_model import LinearRegression,Lasso,Ridge\n",
    "from sklearn.ensemble import GradientBoostingRegressor,RandomForestRegressor,ExtraTreesRegressor,AdaBoostRegressor,BaggingRegressor\n",
    "from sklearn.svm import SVR\n",
    "from sklearn.neighbors import KNeighborsRegressor\n",
    "from sklearn.tree import DecisionTreeRegressor"
   ]
  },
  {
   "cell_type": "code",
   "execution_count": 220,
   "id": "8e39060a",
   "metadata": {},
   "outputs": [
    {
     "name": "stdout",
     "output_type": "stream",
     "text": [
      "Maximum R2 score is  0.9726612586036419 on random state  72\n"
     ]
    }
   ],
   "source": [
    "maxaccu=0\n",
    "maxrs=0\n",
    "for i in range(1,571):\n",
    "    x_train,x_test,y_train,y_test=train_test_split(x,y,random_state=i,test_size=0.20)\n",
    "    lr=LinearRegression()\n",
    "    lr.fit(x_train,y_train)\n",
    "    predict_lr=lr.predict(x_test)\n",
    "    acc=r2_score(y_test,predict_lr)\n",
    "    if acc>maxaccu:\n",
    "        maxaccu=acc\n",
    "        maxrs=i\n",
    "print(\"Maximum R2 score is \",maxaccu, \"on random state \",maxrs)"
   ]
  },
  {
   "cell_type": "code",
   "execution_count": 221,
   "id": "00322fcb",
   "metadata": {},
   "outputs": [],
   "source": [
    "x_train,x_test,y_train,y_test=train_test_split(x,y,test_size=0.20,random_state=maxrs)"
   ]
  },
  {
   "cell_type": "code",
   "execution_count": 222,
   "id": "1b999b54",
   "metadata": {},
   "outputs": [
    {
     "name": "stdout",
     "output_type": "stream",
     "text": [
      "R2 Score  0.9726612586036419\n",
      "Mean Absolute Error  0.08146083894433855\n",
      "Mean Squared Error  0.010983441909859103\n",
      "Root Mean Squared Error  0.10480191749132792\n"
     ]
    }
   ],
   "source": [
    "LR=LinearRegression()\n",
    "LR.fit(x_train,y_train)\n",
    "predict_LR=LR.predict(x_test)\n",
    "print(\"R2 Score \",r2_score(y_test,predict_LR))\n",
    "print(\"Mean Absolute Error \",mean_absolute_error(y_test,predict_LR))\n",
    "print(\"Mean Squared Error \",mean_squared_error(y_test,predict_LR))\n",
    "print(\"Root Mean Squared Error \",np.sqrt(mean_squared_error(y_test,predict_LR)))"
   ]
  },
  {
   "cell_type": "code",
   "execution_count": 223,
   "id": "1d6f79de",
   "metadata": {},
   "outputs": [
    {
     "name": "stdout",
     "output_type": "stream",
     "text": [
      "R2 Score  0.9728456980079067\n",
      "Mean Absolute Error  0.08121644799420254\n",
      "Mean Squared Error  0.010909342687321376\n",
      "Root Mean Squared Error  0.10444779886297928\n"
     ]
    }
   ],
   "source": [
    "rdg=Ridge()\n",
    "rdg.fit(x_train,y_train)\n",
    "predict_rdg=rdg.predict(x_test)\n",
    "print(\"R2 Score \",r2_score(y_test,predict_rdg))\n",
    "print(\"Mean Absolute Error \",mean_absolute_error(y_test,predict_rdg))\n",
    "print(\"Mean Squared Error \",mean_squared_error(y_test,predict_rdg))\n",
    "print(\"Root Mean Squared Error \",np.sqrt(mean_squared_error(y_test,predict_rdg)))"
   ]
  },
  {
   "cell_type": "code",
   "execution_count": 224,
   "id": "53bd52c0",
   "metadata": {},
   "outputs": [
    {
     "name": "stdout",
     "output_type": "stream",
     "text": [
      "R2 Score  0.9694569461640145\n",
      "Mean Absolute Error  0.0803125475677745\n",
      "Mean Squared Error  0.012270786452588358\n",
      "Root Mean Squared Error  0.1107735819254228\n"
     ]
    }
   ],
   "source": [
    "gbr=GradientBoostingRegressor()\n",
    "gbr.fit(x_train,y_train)\n",
    "predict_gbr=gbr.predict(x_test)\n",
    "print(\"R2 Score \",r2_score(y_test,predict_gbr))\n",
    "print(\"Mean Absolute Error \",mean_absolute_error(y_test,predict_gbr))\n",
    "print(\"Mean Squared Error \",mean_squared_error(y_test,predict_gbr))\n",
    "print(\"Root Mean Squared Error \",np.sqrt(mean_squared_error(y_test,predict_gbr)))"
   ]
  },
  {
   "cell_type": "code",
   "execution_count": 225,
   "id": "f8f5625a",
   "metadata": {},
   "outputs": [
    {
     "name": "stdout",
     "output_type": "stream",
     "text": [
      "R2 Score  0.9403601143784649\n",
      "Mean Absolute Error  0.11138008695652167\n",
      "Mean Squared Error  0.023960547771304328\n",
      "Root Mean Squared Error  0.154791949956399\n"
     ]
    }
   ],
   "source": [
    "rfr=RandomForestRegressor()\n",
    "rfr.fit(x_train,y_train)\n",
    "predict_rfr=rfr.predict(x_test)\n",
    "print(\"R2 Score \",r2_score(y_test,predict_rfr))\n",
    "print(\"Mean Absolute Error \",mean_absolute_error(y_test,predict_rfr))\n",
    "print(\"Mean Squared Error \",mean_squared_error(y_test,predict_rfr))\n",
    "print(\"Root Mean Squared Error \",np.sqrt(mean_squared_error(y_test,predict_rfr)))"
   ]
  },
  {
   "cell_type": "code",
   "execution_count": 226,
   "id": "8ef72947",
   "metadata": {},
   "outputs": [
    {
     "name": "stdout",
     "output_type": "stream",
     "text": [
      "R2 Score  0.961820638122231\n",
      "Mean Absolute Error  0.0927370434782608\n",
      "Mean Squared Error  0.015338701853913032\n",
      "Root Mean Squared Error  0.12384951293369317\n"
     ]
    }
   ],
   "source": [
    "etr=ExtraTreesRegressor()\n",
    "etr.fit(x_train,y_train)\n",
    "predict_etr=etr.predict(x_test)\n",
    "print(\"R2 Score \",r2_score(y_test,predict_etr))\n",
    "print(\"Mean Absolute Error \",mean_absolute_error(y_test,predict_etr))\n",
    "print(\"Mean Squared Error \",mean_squared_error(y_test,predict_etr))\n",
    "print(\"Root Mean Squared Error \",np.sqrt(mean_squared_error(y_test,predict_etr)))"
   ]
  },
  {
   "cell_type": "code",
   "execution_count": 227,
   "id": "05b315f0",
   "metadata": {},
   "outputs": [
    {
     "name": "stdout",
     "output_type": "stream",
     "text": [
      "R2 Score  0.9049880587152729\n",
      "Mean Absolute Error  0.16700747286573506\n",
      "Mean Squared Error  0.0381714038226633\n",
      "Root Mean Squared Error  0.19537503377520707\n"
     ]
    }
   ],
   "source": [
    "abr=AdaBoostRegressor()\n",
    "abr.fit(x_train,y_train)\n",
    "predict_abr=abr.predict(x_test)\n",
    "print(\"R2 Score \",r2_score(y_test,predict_abr))\n",
    "print(\"Mean Absolute Error \",mean_absolute_error(y_test,predict_abr))\n",
    "print(\"Mean Squared Error \",mean_squared_error(y_test,predict_abr))\n",
    "print(\"Root Mean Squared Error \",np.sqrt(mean_squared_error(y_test,predict_abr)))"
   ]
  },
  {
   "cell_type": "code",
   "execution_count": 228,
   "id": "a0d6df52",
   "metadata": {},
   "outputs": [
    {
     "name": "stdout",
     "output_type": "stream",
     "text": [
      "R2 Score  0.9320675270794211\n",
      "Mean Absolute Error  0.12065130434782609\n",
      "Mean Squared Error  0.02729212582608695\n",
      "Root Mean Squared Error  0.16520328636588\n"
     ]
    }
   ],
   "source": [
    "br=BaggingRegressor()\n",
    "br.fit(x_train,y_train)\n",
    "predict_br=br.predict(x_test)\n",
    "print(\"R2 Score \",r2_score(y_test,predict_br))\n",
    "print(\"Mean Absolute Error \",mean_absolute_error(y_test,predict_br))\n",
    "print(\"Mean Squared Error \",mean_squared_error(y_test,predict_br))\n",
    "print(\"Root Mean Squared Error \",np.sqrt(mean_squared_error(y_test,predict_br)))"
   ]
  },
  {
   "cell_type": "code",
   "execution_count": 229,
   "id": "4c608f72",
   "metadata": {},
   "outputs": [
    {
     "name": "stdout",
     "output_type": "stream",
     "text": [
      "R2 Score  0.9758237331979843\n",
      "Mean Absolute Error  0.07230386459459015\n",
      "Mean Squared Error  0.009712905878416484\n",
      "Root Mean Squared Error  0.098554075909708\n"
     ]
    }
   ],
   "source": [
    "svr=SVR()\n",
    "svr.fit(x_train,y_train)\n",
    "predict_svr=svr.predict(x_test)\n",
    "print(\"R2 Score \",r2_score(y_test,predict_svr))\n",
    "print(\"Mean Absolute Error \",mean_absolute_error(y_test,predict_svr))\n",
    "print(\"Mean Squared Error \",mean_squared_error(y_test,predict_svr))\n",
    "print(\"Root Mean Squared Error \",np.sqrt(mean_squared_error(y_test,predict_svr)))"
   ]
  },
  {
   "cell_type": "code",
   "execution_count": 230,
   "id": "b06aaf60",
   "metadata": {},
   "outputs": [
    {
     "name": "stdout",
     "output_type": "stream",
     "text": [
      "R2 Score  0.9700122870363597\n",
      "Mean Absolute Error  0.08443652173913042\n",
      "Mean Squared Error  0.012047676173913037\n",
      "Root Mean Squared Error  0.10976190675235666\n"
     ]
    }
   ],
   "source": [
    "knr=KNeighborsRegressor()\n",
    "knr.fit(x_train,y_train)\n",
    "predict_knr=knr.predict(x_test)\n",
    "print(\"R2 Score \",r2_score(y_test,predict_knr))\n",
    "print(\"Mean Absolute Error \",mean_absolute_error(y_test,predict_knr))\n",
    "print(\"Mean Squared Error \",mean_squared_error(y_test,predict_knr))\n",
    "print(\"Root Mean Squared Error \",np.sqrt(mean_squared_error(y_test,predict_knr)))"
   ]
  },
  {
   "cell_type": "code",
   "execution_count": 231,
   "id": "861fff7e",
   "metadata": {},
   "outputs": [
    {
     "name": "stdout",
     "output_type": "stream",
     "text": [
      "R2 Score  0.8403087771305956\n",
      "Mean Absolute Error  0.18908695652173907\n",
      "Mean Squared Error  0.06415654782608693\n",
      "Root Mean Squared Error  0.25329142864709603\n"
     ]
    }
   ],
   "source": [
    "dtr=DecisionTreeRegressor()\n",
    "dtr.fit(x_train,y_train)\n",
    "predict_dtr=dtr.predict(x_test)\n",
    "print(\"R2 Score \",r2_score(y_test,predict_dtr))\n",
    "print(\"Mean Absolute Error \",mean_absolute_error(y_test,predict_dtr))\n",
    "print(\"Mean Squared Error \",mean_squared_error(y_test,predict_dtr))\n",
    "print(\"Root Mean Squared Error \",np.sqrt(mean_squared_error(y_test,predict_dtr)))"
   ]
  },
  {
   "cell_type": "code",
   "execution_count": 232,
   "id": "ef8e24ec",
   "metadata": {},
   "outputs": [
    {
     "name": "stdout",
     "output_type": "stream",
     "text": [
      "[0.8927601  0.93427094 0.90082619 0.94061762 0.84878197]\n",
      "0.9034513625626616\n",
      "Difference between R2 Score and cross val score is :  6.920989604098038\n"
     ]
    }
   ],
   "source": [
    "from sklearn.model_selection import cross_val_score\n",
    "score=cross_val_score(LR,x,y)\n",
    "print(score)\n",
    "print(score.mean())\n",
    "print(\"Difference between R2 Score and cross val score is : \",(r2_score(y_test,predict_LR)-score.mean())*100)"
   ]
  },
  {
   "cell_type": "code",
   "execution_count": 233,
   "id": "eb4687b9",
   "metadata": {},
   "outputs": [
    {
     "name": "stdout",
     "output_type": "stream",
     "text": [
      "[0.89292168 0.93429658 0.90102969 0.94099039 0.84890717]\n",
      "0.9036291005426633\n",
      "Difference between R2 Score and cross val score is :  6.921659746524334\n"
     ]
    }
   ],
   "source": [
    "from sklearn.model_selection import cross_val_score\n",
    "score=cross_val_score(rdg,x,y)\n",
    "print(score)\n",
    "print(score.mean())\n",
    "print(\"Difference between R2 Score and cross val score is : \",(r2_score(y_test,predict_rdg)-score.mean())*100)"
   ]
  },
  {
   "cell_type": "code",
   "execution_count": 234,
   "id": "8abedad6",
   "metadata": {},
   "outputs": [
    {
     "name": "stdout",
     "output_type": "stream",
     "text": [
      "[0.91734547 0.96096107 0.96114137 0.95077231 0.87411445]\n",
      "0.9328669341158756\n",
      "Difference between R2 Score and cross val score is :  3.659001204813883\n"
     ]
    }
   ],
   "source": [
    "from sklearn.model_selection import cross_val_score\n",
    "score=cross_val_score(gbr,x,y)\n",
    "print(score)\n",
    "print(score.mean())\n",
    "print(\"Difference between R2 Score and cross val score is : \",(r2_score(y_test,predict_gbr)-score.mean())*100)"
   ]
  },
  {
   "cell_type": "code",
   "execution_count": 235,
   "id": "2acdbfac",
   "metadata": {},
   "outputs": [
    {
     "name": "stdout",
     "output_type": "stream",
     "text": [
      "[0.90615607 0.92532092 0.93941689 0.92390195 0.8499118 ]\n",
      "0.9089415244780131\n",
      "Difference between R2 Score and cross val score is :  3.1418589900451765\n"
     ]
    }
   ],
   "source": [
    "from sklearn.model_selection import cross_val_score\n",
    "score=cross_val_score(rfr,x,y)\n",
    "print(score)\n",
    "print(score.mean())\n",
    "print(\"Difference between R2 Score and cross val score is : \",(r2_score(y_test,predict_rfr)-score.mean())*100)"
   ]
  },
  {
   "cell_type": "code",
   "execution_count": 236,
   "id": "be022c7e",
   "metadata": {},
   "outputs": [
    {
     "name": "stdout",
     "output_type": "stream",
     "text": [
      "[0.90116425 0.94866678 0.94710543 0.94693075 0.87057515]\n",
      "0.9228884725029314\n",
      "Difference between R2 Score and cross val score is :  3.8932165619299575\n"
     ]
    }
   ],
   "source": [
    "from sklearn.model_selection import cross_val_score\n",
    "score=cross_val_score(etr,x,y)\n",
    "print(score)\n",
    "print(score.mean())\n",
    "print(\"Difference between R2 Score and cross val score is : \",(r2_score(y_test,predict_etr)-score.mean())*100)\n"
   ]
  },
  {
   "cell_type": "code",
   "execution_count": 237,
   "id": "8dcac3f5",
   "metadata": {},
   "outputs": [
    {
     "name": "stdout",
     "output_type": "stream",
     "text": [
      "[0.89656309 0.92627299 0.90977131 0.9411797  0.85204761]\n",
      "0.9051669400105776\n",
      "Difference between R2 Score and cross val score is :  7.06567931874067\n"
     ]
    }
   ],
   "source": [
    "from sklearn.model_selection import cross_val_score\n",
    "score=cross_val_score(svr,x,y)\n",
    "print(score)\n",
    "print(score.mean())\n",
    "print(\"Difference between R2 Score and cross val score is : \",(r2_score(y_test,predict_svr)-score.mean())*100)\n"
   ]
  },
  {
   "cell_type": "markdown",
   "id": "ba319e24",
   "metadata": {},
   "source": [
    "Linear Regression model is predicting 97.2 & Support vector regressor is predicting 97.5 but cros val score of LR is 6 & SVR cross val score is 7. Since LR cross val score is less so will consider LR is our final model."
   ]
  },
  {
   "cell_type": "code",
   "execution_count": 245,
   "id": "fc134142",
   "metadata": {},
   "outputs": [],
   "source": [
    "from sklearn.model_selection import GridSearchCV      # Applying hyper parameter tuning to improve the model performance\n",
    "parameter={'fit_intercept':[True,bool],\n",
    "           'copy_X':[True,bool],\n",
    "           'n_jobs':[-1,1,2],\n",
    "           'positive':[False,bool]}"
   ]
  },
  {
   "cell_type": "code",
   "execution_count": 246,
   "id": "8854e13c",
   "metadata": {},
   "outputs": [
    {
     "data": {
      "text/plain": [
       "GridSearchCV(cv=5, estimator=LinearRegression(),\n",
       "             param_grid={'copy_X': [True, <class 'bool'>],\n",
       "                         'fit_intercept': [True, <class 'bool'>],\n",
       "                         'n_jobs': [-1, 1, 2],\n",
       "                         'positive': [False, <class 'bool'>]})"
      ]
     },
     "execution_count": 246,
     "metadata": {},
     "output_type": "execute_result"
    }
   ],
   "source": [
    "gscv=GridSearchCV(LinearRegression(),parameter,cv=5)\n",
    "gscv.fit(x_train,y_train)"
   ]
  },
  {
   "cell_type": "code",
   "execution_count": 247,
   "id": "d4b4c78f",
   "metadata": {},
   "outputs": [
    {
     "data": {
      "text/plain": [
       "{'copy_X': True, 'fit_intercept': True, 'n_jobs': -1, 'positive': False}"
      ]
     },
     "execution_count": 247,
     "metadata": {},
     "output_type": "execute_result"
    }
   ],
   "source": [
    "gscv.best_params_"
   ]
  },
  {
   "cell_type": "code",
   "execution_count": 248,
   "id": "af863274",
   "metadata": {},
   "outputs": [
    {
     "name": "stdout",
     "output_type": "stream",
     "text": [
      "97.2661258603642\n"
     ]
    }
   ],
   "source": [
    "final_model=LinearRegression(copy_X=True, fit_intercept=True, n_jobs=-1, positive=False)\n",
    "final_model.fit(x_train,y_train)\n",
    "final_predict=final_model.predict(x_test)\n",
    "acc=r2_score(y_test,final_predict)                         # Linear Regression performing wel.\n",
    "print(acc*100)"
   ]
  },
  {
   "cell_type": "code",
   "execution_count": 249,
   "id": "c9542887",
   "metadata": {},
   "outputs": [
    {
     "data": {
      "text/plain": [
       "['studentgrades.pkl']"
      ]
     },
     "execution_count": 249,
     "metadata": {},
     "output_type": "execute_result"
    }
   ],
   "source": [
    "import joblib\n",
    "joblib.dump(final_model,'studentgrades.pkl')           # Saving the model"
   ]
  },
  {
   "cell_type": "code",
   "execution_count": 250,
   "id": "1466be9a",
   "metadata": {},
   "outputs": [
    {
     "data": {
      "text/html": [
       "<div>\n",
       "<style scoped>\n",
       "    .dataframe tbody tr th:only-of-type {\n",
       "        vertical-align: middle;\n",
       "    }\n",
       "\n",
       "    .dataframe tbody tr th {\n",
       "        vertical-align: top;\n",
       "    }\n",
       "\n",
       "    .dataframe thead th {\n",
       "        text-align: right;\n",
       "    }\n",
       "</style>\n",
       "<table border=\"1\" class=\"dataframe\">\n",
       "  <thead>\n",
       "    <tr style=\"text-align: right;\">\n",
       "      <th></th>\n",
       "      <th>Predicted</th>\n",
       "      <th>Original</th>\n",
       "    </tr>\n",
       "  </thead>\n",
       "  <tbody>\n",
       "    <tr>\n",
       "      <th>0</th>\n",
       "      <td>2.260771</td>\n",
       "      <td>2.288</td>\n",
       "    </tr>\n",
       "    <tr>\n",
       "      <th>1</th>\n",
       "      <td>3.512513</td>\n",
       "      <td>3.566</td>\n",
       "    </tr>\n",
       "    <tr>\n",
       "      <th>2</th>\n",
       "      <td>3.156507</td>\n",
       "      <td>3.114</td>\n",
       "    </tr>\n",
       "    <tr>\n",
       "      <th>3</th>\n",
       "      <td>2.547693</td>\n",
       "      <td>2.384</td>\n",
       "    </tr>\n",
       "    <tr>\n",
       "      <th>4</th>\n",
       "      <td>2.312023</td>\n",
       "      <td>2.311</td>\n",
       "    </tr>\n",
       "    <tr>\n",
       "      <th>...</th>\n",
       "      <td>...</td>\n",
       "      <td>...</td>\n",
       "    </tr>\n",
       "    <tr>\n",
       "      <th>110</th>\n",
       "      <td>3.211130</td>\n",
       "      <td>3.208</td>\n",
       "    </tr>\n",
       "    <tr>\n",
       "      <th>111</th>\n",
       "      <td>2.255298</td>\n",
       "      <td>2.396</td>\n",
       "    </tr>\n",
       "    <tr>\n",
       "      <th>112</th>\n",
       "      <td>2.014561</td>\n",
       "      <td>2.060</td>\n",
       "    </tr>\n",
       "    <tr>\n",
       "      <th>113</th>\n",
       "      <td>2.467491</td>\n",
       "      <td>2.407</td>\n",
       "    </tr>\n",
       "    <tr>\n",
       "      <th>114</th>\n",
       "      <td>3.639734</td>\n",
       "      <td>3.659</td>\n",
       "    </tr>\n",
       "  </tbody>\n",
       "</table>\n",
       "<p>115 rows × 2 columns</p>\n",
       "</div>"
      ],
      "text/plain": [
       "     Predicted  Original\n",
       "0     2.260771     2.288\n",
       "1     3.512513     3.566\n",
       "2     3.156507     3.114\n",
       "3     2.547693     2.384\n",
       "4     2.312023     2.311\n",
       "..         ...       ...\n",
       "110   3.211130     3.208\n",
       "111   2.255298     2.396\n",
       "112   2.014561     2.060\n",
       "113   2.467491     2.407\n",
       "114   3.639734     3.659\n",
       "\n",
       "[115 rows x 2 columns]"
      ]
     },
     "execution_count": 250,
     "metadata": {},
     "output_type": "execute_result"
    }
   ],
   "source": [
    "model=joblib.load(\"studentgrades.pkl\")\n",
    "prediction=model.predict(x_test)\n",
    "prediction                                              # Predicting the saved model\n",
    "a=np.array(y_test)\n",
    "df=pd.DataFrame()\n",
    "df['Predicted']=prediction\n",
    "df['Original']=a\n",
    "df"
   ]
  }
 ],
 "metadata": {
  "kernelspec": {
   "display_name": "Python 3 (ipykernel)",
   "language": "python",
   "name": "python3"
  },
  "language_info": {
   "codemirror_mode": {
    "name": "ipython",
    "version": 3
   },
   "file_extension": ".py",
   "mimetype": "text/x-python",
   "name": "python",
   "nbconvert_exporter": "python",
   "pygments_lexer": "ipython3",
   "version": "3.9.12"
  }
 },
 "nbformat": 4,
 "nbformat_minor": 5
}
